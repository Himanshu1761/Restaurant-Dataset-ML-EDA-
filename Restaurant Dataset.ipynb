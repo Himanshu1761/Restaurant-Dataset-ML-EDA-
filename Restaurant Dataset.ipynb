{
 "cells": [
  {
   "cell_type": "markdown",
   "id": "7f848a77",
   "metadata": {},
   "source": [
    "# Restaurant Dataset"
   ]
  },
  {
   "cell_type": "markdown",
   "id": "c6178a6d",
   "metadata": {},
   "source": [
    "# Loading the Libraries"
   ]
  },
  {
   "cell_type": "code",
   "execution_count": 2,
   "id": "ef1453a2",
   "metadata": {},
   "outputs": [],
   "source": [
    "import pandas as pd\n",
    "import numpy as np\n",
    "import matplotlib.pyplot as plt\n",
    "import seaborn as sns\n",
    "import warnings\n",
    "\n",
    "\n",
    "warnings.filterwarnings('ignore')"
   ]
  },
  {
   "cell_type": "markdown",
   "id": "2929d5be",
   "metadata": {},
   "source": [
    "# Reading the dataset file"
   ]
  },
  {
   "cell_type": "code",
   "execution_count": 3,
   "id": "1628ba6b",
   "metadata": {},
   "outputs": [],
   "source": [
    "data=pd.read_csv(r'D:\\Great Learning\\All Data\\Cognifyz Technology\\Cognifyz_data.csv')"
   ]
  },
  {
   "cell_type": "markdown",
   "id": "13f394a8",
   "metadata": {},
   "source": [
    "## Things to Perform: \n",
    "#### Data Exploration and Preprocessing\n",
    "#### Explore the dataset and identify the number of rows and columns.\n",
    "#### Check for missing values in each column and handle them accordingly.\n",
    "#### Perform data type conversion if necessary.\n",
    "#### Analyze the distribution of the target variable (\"Aggregate rating\") and identify any class imbalances."
   ]
  },
  {
   "cell_type": "markdown",
   "id": "14730254",
   "metadata": {},
   "source": [
    "# Reading first 10 records from the dataset"
   ]
  },
  {
   "cell_type": "code",
   "execution_count": 4,
   "id": "442173e1",
   "metadata": {},
   "outputs": [
    {
     "data": {
      "text/html": [
       "<div>\n",
       "<style scoped>\n",
       "    .dataframe tbody tr th:only-of-type {\n",
       "        vertical-align: middle;\n",
       "    }\n",
       "\n",
       "    .dataframe tbody tr th {\n",
       "        vertical-align: top;\n",
       "    }\n",
       "\n",
       "    .dataframe thead th {\n",
       "        text-align: right;\n",
       "    }\n",
       "</style>\n",
       "<table border=\"1\" class=\"dataframe\">\n",
       "  <thead>\n",
       "    <tr style=\"text-align: right;\">\n",
       "      <th></th>\n",
       "      <th>Restaurant ID</th>\n",
       "      <th>Restaurant Name</th>\n",
       "      <th>Country Code</th>\n",
       "      <th>City</th>\n",
       "      <th>Address</th>\n",
       "      <th>Locality</th>\n",
       "      <th>Locality Verbose</th>\n",
       "      <th>Longitude</th>\n",
       "      <th>Latitude</th>\n",
       "      <th>Cuisines</th>\n",
       "      <th>...</th>\n",
       "      <th>Currency</th>\n",
       "      <th>Has Table booking</th>\n",
       "      <th>Has Online delivery</th>\n",
       "      <th>Is delivering now</th>\n",
       "      <th>Switch to order menu</th>\n",
       "      <th>Price range</th>\n",
       "      <th>Aggregate rating</th>\n",
       "      <th>Rating color</th>\n",
       "      <th>Rating text</th>\n",
       "      <th>Votes</th>\n",
       "    </tr>\n",
       "  </thead>\n",
       "  <tbody>\n",
       "    <tr>\n",
       "      <th>0</th>\n",
       "      <td>6317637</td>\n",
       "      <td>Le Petit Souffle</td>\n",
       "      <td>162</td>\n",
       "      <td>Makati City</td>\n",
       "      <td>Third Floor, Century City Mall, Kalayaan Avenu...</td>\n",
       "      <td>Century City Mall, Poblacion, Makati City</td>\n",
       "      <td>Century City Mall, Poblacion, Makati City, Mak...</td>\n",
       "      <td>121.027535</td>\n",
       "      <td>14.565443</td>\n",
       "      <td>French, Japanese, Desserts</td>\n",
       "      <td>...</td>\n",
       "      <td>Botswana Pula(P)</td>\n",
       "      <td>Yes</td>\n",
       "      <td>No</td>\n",
       "      <td>No</td>\n",
       "      <td>No</td>\n",
       "      <td>3</td>\n",
       "      <td>4.8</td>\n",
       "      <td>Dark Green</td>\n",
       "      <td>Excellent</td>\n",
       "      <td>314</td>\n",
       "    </tr>\n",
       "    <tr>\n",
       "      <th>1</th>\n",
       "      <td>6304287</td>\n",
       "      <td>Izakaya Kikufuji</td>\n",
       "      <td>162</td>\n",
       "      <td>Makati City</td>\n",
       "      <td>Little Tokyo, 2277 Chino Roces Avenue, Legaspi...</td>\n",
       "      <td>Little Tokyo, Legaspi Village, Makati City</td>\n",
       "      <td>Little Tokyo, Legaspi Village, Makati City, Ma...</td>\n",
       "      <td>121.014101</td>\n",
       "      <td>14.553708</td>\n",
       "      <td>Japanese</td>\n",
       "      <td>...</td>\n",
       "      <td>Botswana Pula(P)</td>\n",
       "      <td>Yes</td>\n",
       "      <td>No</td>\n",
       "      <td>No</td>\n",
       "      <td>No</td>\n",
       "      <td>3</td>\n",
       "      <td>4.5</td>\n",
       "      <td>Dark Green</td>\n",
       "      <td>Excellent</td>\n",
       "      <td>591</td>\n",
       "    </tr>\n",
       "    <tr>\n",
       "      <th>2</th>\n",
       "      <td>6300002</td>\n",
       "      <td>Heat - Edsa Shangri-La</td>\n",
       "      <td>162</td>\n",
       "      <td>Mandaluyong City</td>\n",
       "      <td>Edsa Shangri-La, 1 Garden Way, Ortigas, Mandal...</td>\n",
       "      <td>Edsa Shangri-La, Ortigas, Mandaluyong City</td>\n",
       "      <td>Edsa Shangri-La, Ortigas, Mandaluyong City, Ma...</td>\n",
       "      <td>121.056831</td>\n",
       "      <td>14.581404</td>\n",
       "      <td>Seafood, Asian, Filipino, Indian</td>\n",
       "      <td>...</td>\n",
       "      <td>Botswana Pula(P)</td>\n",
       "      <td>Yes</td>\n",
       "      <td>No</td>\n",
       "      <td>No</td>\n",
       "      <td>No</td>\n",
       "      <td>4</td>\n",
       "      <td>4.4</td>\n",
       "      <td>Green</td>\n",
       "      <td>Very Good</td>\n",
       "      <td>270</td>\n",
       "    </tr>\n",
       "    <tr>\n",
       "      <th>3</th>\n",
       "      <td>6318506</td>\n",
       "      <td>Ooma</td>\n",
       "      <td>162</td>\n",
       "      <td>Mandaluyong City</td>\n",
       "      <td>Third Floor, Mega Fashion Hall, SM Megamall, O...</td>\n",
       "      <td>SM Megamall, Ortigas, Mandaluyong City</td>\n",
       "      <td>SM Megamall, Ortigas, Mandaluyong City, Mandal...</td>\n",
       "      <td>121.056475</td>\n",
       "      <td>14.585318</td>\n",
       "      <td>Japanese, Sushi</td>\n",
       "      <td>...</td>\n",
       "      <td>Botswana Pula(P)</td>\n",
       "      <td>No</td>\n",
       "      <td>No</td>\n",
       "      <td>No</td>\n",
       "      <td>No</td>\n",
       "      <td>4</td>\n",
       "      <td>4.9</td>\n",
       "      <td>Dark Green</td>\n",
       "      <td>Excellent</td>\n",
       "      <td>365</td>\n",
       "    </tr>\n",
       "    <tr>\n",
       "      <th>4</th>\n",
       "      <td>6314302</td>\n",
       "      <td>Sambo Kojin</td>\n",
       "      <td>162</td>\n",
       "      <td>Mandaluyong City</td>\n",
       "      <td>Third Floor, Mega Atrium, SM Megamall, Ortigas...</td>\n",
       "      <td>SM Megamall, Ortigas, Mandaluyong City</td>\n",
       "      <td>SM Megamall, Ortigas, Mandaluyong City, Mandal...</td>\n",
       "      <td>121.057508</td>\n",
       "      <td>14.584450</td>\n",
       "      <td>Japanese, Korean</td>\n",
       "      <td>...</td>\n",
       "      <td>Botswana Pula(P)</td>\n",
       "      <td>Yes</td>\n",
       "      <td>No</td>\n",
       "      <td>No</td>\n",
       "      <td>No</td>\n",
       "      <td>4</td>\n",
       "      <td>4.8</td>\n",
       "      <td>Dark Green</td>\n",
       "      <td>Excellent</td>\n",
       "      <td>229</td>\n",
       "    </tr>\n",
       "    <tr>\n",
       "      <th>5</th>\n",
       "      <td>18189371</td>\n",
       "      <td>Din Tai Fung</td>\n",
       "      <td>162</td>\n",
       "      <td>Mandaluyong City</td>\n",
       "      <td>Ground Floor, Mega Fashion Hall, SM Megamall, ...</td>\n",
       "      <td>SM Megamall, Ortigas, Mandaluyong City</td>\n",
       "      <td>SM Megamall, Ortigas, Mandaluyong City, Mandal...</td>\n",
       "      <td>121.056314</td>\n",
       "      <td>14.583764</td>\n",
       "      <td>Chinese</td>\n",
       "      <td>...</td>\n",
       "      <td>Botswana Pula(P)</td>\n",
       "      <td>No</td>\n",
       "      <td>No</td>\n",
       "      <td>No</td>\n",
       "      <td>No</td>\n",
       "      <td>3</td>\n",
       "      <td>4.4</td>\n",
       "      <td>Green</td>\n",
       "      <td>Very Good</td>\n",
       "      <td>336</td>\n",
       "    </tr>\n",
       "    <tr>\n",
       "      <th>6</th>\n",
       "      <td>6300781</td>\n",
       "      <td>Buffet 101</td>\n",
       "      <td>162</td>\n",
       "      <td>Pasay City</td>\n",
       "      <td>Building K, SM By The Bay, Sunset Boulevard, M...</td>\n",
       "      <td>SM by the Bay, Mall of Asia Complex, Pasay City</td>\n",
       "      <td>SM by the Bay, Mall of Asia Complex, Pasay Cit...</td>\n",
       "      <td>120.979667</td>\n",
       "      <td>14.531333</td>\n",
       "      <td>Asian, European</td>\n",
       "      <td>...</td>\n",
       "      <td>Botswana Pula(P)</td>\n",
       "      <td>Yes</td>\n",
       "      <td>No</td>\n",
       "      <td>No</td>\n",
       "      <td>No</td>\n",
       "      <td>4</td>\n",
       "      <td>4.0</td>\n",
       "      <td>Green</td>\n",
       "      <td>Very Good</td>\n",
       "      <td>520</td>\n",
       "    </tr>\n",
       "    <tr>\n",
       "      <th>7</th>\n",
       "      <td>6301290</td>\n",
       "      <td>Vikings</td>\n",
       "      <td>162</td>\n",
       "      <td>Pasay City</td>\n",
       "      <td>Building B, By The Bay, Seaside Boulevard, Mal...</td>\n",
       "      <td>SM by the Bay, Mall of Asia Complex, Pasay City</td>\n",
       "      <td>SM by the Bay, Mall of Asia Complex, Pasay Cit...</td>\n",
       "      <td>120.979333</td>\n",
       "      <td>14.540000</td>\n",
       "      <td>Seafood, Filipino, Asian, European</td>\n",
       "      <td>...</td>\n",
       "      <td>Botswana Pula(P)</td>\n",
       "      <td>Yes</td>\n",
       "      <td>No</td>\n",
       "      <td>No</td>\n",
       "      <td>No</td>\n",
       "      <td>4</td>\n",
       "      <td>4.2</td>\n",
       "      <td>Green</td>\n",
       "      <td>Very Good</td>\n",
       "      <td>677</td>\n",
       "    </tr>\n",
       "    <tr>\n",
       "      <th>8</th>\n",
       "      <td>6300010</td>\n",
       "      <td>Spiral - Sofitel Philippine Plaza Manila</td>\n",
       "      <td>162</td>\n",
       "      <td>Pasay City</td>\n",
       "      <td>Plaza Level, Sofitel Philippine Plaza Manila, ...</td>\n",
       "      <td>Sofitel Philippine Plaza Manila, Pasay City</td>\n",
       "      <td>Sofitel Philippine Plaza Manila, Pasay City, P...</td>\n",
       "      <td>120.980090</td>\n",
       "      <td>14.552990</td>\n",
       "      <td>European, Asian, Indian</td>\n",
       "      <td>...</td>\n",
       "      <td>Botswana Pula(P)</td>\n",
       "      <td>Yes</td>\n",
       "      <td>No</td>\n",
       "      <td>No</td>\n",
       "      <td>No</td>\n",
       "      <td>4</td>\n",
       "      <td>4.9</td>\n",
       "      <td>Dark Green</td>\n",
       "      <td>Excellent</td>\n",
       "      <td>621</td>\n",
       "    </tr>\n",
       "    <tr>\n",
       "      <th>9</th>\n",
       "      <td>6314987</td>\n",
       "      <td>Locavore</td>\n",
       "      <td>162</td>\n",
       "      <td>Pasig City</td>\n",
       "      <td>Brixton Technology Center, 10 Brixton Street, ...</td>\n",
       "      <td>Kapitolyo</td>\n",
       "      <td>Kapitolyo, Pasig City</td>\n",
       "      <td>121.056532</td>\n",
       "      <td>14.572041</td>\n",
       "      <td>Filipino</td>\n",
       "      <td>...</td>\n",
       "      <td>Botswana Pula(P)</td>\n",
       "      <td>Yes</td>\n",
       "      <td>No</td>\n",
       "      <td>No</td>\n",
       "      <td>No</td>\n",
       "      <td>3</td>\n",
       "      <td>4.8</td>\n",
       "      <td>Dark Green</td>\n",
       "      <td>Excellent</td>\n",
       "      <td>532</td>\n",
       "    </tr>\n",
       "  </tbody>\n",
       "</table>\n",
       "<p>10 rows × 21 columns</p>\n",
       "</div>"
      ],
      "text/plain": [
       "   Restaurant ID                           Restaurant Name  Country Code  \\\n",
       "0        6317637                          Le Petit Souffle           162   \n",
       "1        6304287                          Izakaya Kikufuji           162   \n",
       "2        6300002                    Heat - Edsa Shangri-La           162   \n",
       "3        6318506                                      Ooma           162   \n",
       "4        6314302                               Sambo Kojin           162   \n",
       "5       18189371                              Din Tai Fung           162   \n",
       "6        6300781                                Buffet 101           162   \n",
       "7        6301290                                   Vikings           162   \n",
       "8        6300010  Spiral - Sofitel Philippine Plaza Manila           162   \n",
       "9        6314987                                  Locavore           162   \n",
       "\n",
       "               City                                            Address  \\\n",
       "0       Makati City  Third Floor, Century City Mall, Kalayaan Avenu...   \n",
       "1       Makati City  Little Tokyo, 2277 Chino Roces Avenue, Legaspi...   \n",
       "2  Mandaluyong City  Edsa Shangri-La, 1 Garden Way, Ortigas, Mandal...   \n",
       "3  Mandaluyong City  Third Floor, Mega Fashion Hall, SM Megamall, O...   \n",
       "4  Mandaluyong City  Third Floor, Mega Atrium, SM Megamall, Ortigas...   \n",
       "5  Mandaluyong City  Ground Floor, Mega Fashion Hall, SM Megamall, ...   \n",
       "6        Pasay City  Building K, SM By The Bay, Sunset Boulevard, M...   \n",
       "7        Pasay City  Building B, By The Bay, Seaside Boulevard, Mal...   \n",
       "8        Pasay City  Plaza Level, Sofitel Philippine Plaza Manila, ...   \n",
       "9        Pasig City  Brixton Technology Center, 10 Brixton Street, ...   \n",
       "\n",
       "                                          Locality  \\\n",
       "0        Century City Mall, Poblacion, Makati City   \n",
       "1       Little Tokyo, Legaspi Village, Makati City   \n",
       "2       Edsa Shangri-La, Ortigas, Mandaluyong City   \n",
       "3           SM Megamall, Ortigas, Mandaluyong City   \n",
       "4           SM Megamall, Ortigas, Mandaluyong City   \n",
       "5           SM Megamall, Ortigas, Mandaluyong City   \n",
       "6  SM by the Bay, Mall of Asia Complex, Pasay City   \n",
       "7  SM by the Bay, Mall of Asia Complex, Pasay City   \n",
       "8      Sofitel Philippine Plaza Manila, Pasay City   \n",
       "9                                        Kapitolyo   \n",
       "\n",
       "                                    Locality Verbose   Longitude   Latitude  \\\n",
       "0  Century City Mall, Poblacion, Makati City, Mak...  121.027535  14.565443   \n",
       "1  Little Tokyo, Legaspi Village, Makati City, Ma...  121.014101  14.553708   \n",
       "2  Edsa Shangri-La, Ortigas, Mandaluyong City, Ma...  121.056831  14.581404   \n",
       "3  SM Megamall, Ortigas, Mandaluyong City, Mandal...  121.056475  14.585318   \n",
       "4  SM Megamall, Ortigas, Mandaluyong City, Mandal...  121.057508  14.584450   \n",
       "5  SM Megamall, Ortigas, Mandaluyong City, Mandal...  121.056314  14.583764   \n",
       "6  SM by the Bay, Mall of Asia Complex, Pasay Cit...  120.979667  14.531333   \n",
       "7  SM by the Bay, Mall of Asia Complex, Pasay Cit...  120.979333  14.540000   \n",
       "8  Sofitel Philippine Plaza Manila, Pasay City, P...  120.980090  14.552990   \n",
       "9                              Kapitolyo, Pasig City  121.056532  14.572041   \n",
       "\n",
       "                             Cuisines  ...          Currency  \\\n",
       "0          French, Japanese, Desserts  ...  Botswana Pula(P)   \n",
       "1                            Japanese  ...  Botswana Pula(P)   \n",
       "2    Seafood, Asian, Filipino, Indian  ...  Botswana Pula(P)   \n",
       "3                     Japanese, Sushi  ...  Botswana Pula(P)   \n",
       "4                    Japanese, Korean  ...  Botswana Pula(P)   \n",
       "5                             Chinese  ...  Botswana Pula(P)   \n",
       "6                     Asian, European  ...  Botswana Pula(P)   \n",
       "7  Seafood, Filipino, Asian, European  ...  Botswana Pula(P)   \n",
       "8             European, Asian, Indian  ...  Botswana Pula(P)   \n",
       "9                            Filipino  ...  Botswana Pula(P)   \n",
       "\n",
       "  Has Table booking Has Online delivery Is delivering now  \\\n",
       "0               Yes                  No                No   \n",
       "1               Yes                  No                No   \n",
       "2               Yes                  No                No   \n",
       "3                No                  No                No   \n",
       "4               Yes                  No                No   \n",
       "5                No                  No                No   \n",
       "6               Yes                  No                No   \n",
       "7               Yes                  No                No   \n",
       "8               Yes                  No                No   \n",
       "9               Yes                  No                No   \n",
       "\n",
       "  Switch to order menu Price range  Aggregate rating  Rating color  \\\n",
       "0                   No           3               4.8    Dark Green   \n",
       "1                   No           3               4.5    Dark Green   \n",
       "2                   No           4               4.4         Green   \n",
       "3                   No           4               4.9    Dark Green   \n",
       "4                   No           4               4.8    Dark Green   \n",
       "5                   No           3               4.4         Green   \n",
       "6                   No           4               4.0         Green   \n",
       "7                   No           4               4.2         Green   \n",
       "8                   No           4               4.9    Dark Green   \n",
       "9                   No           3               4.8    Dark Green   \n",
       "\n",
       "  Rating text Votes  \n",
       "0   Excellent   314  \n",
       "1   Excellent   591  \n",
       "2   Very Good   270  \n",
       "3   Excellent   365  \n",
       "4   Excellent   229  \n",
       "5   Very Good   336  \n",
       "6   Very Good   520  \n",
       "7   Very Good   677  \n",
       "8   Excellent   621  \n",
       "9   Excellent   532  \n",
       "\n",
       "[10 rows x 21 columns]"
      ]
     },
     "execution_count": 4,
     "metadata": {},
     "output_type": "execute_result"
    }
   ],
   "source": [
    "data.head(10)"
   ]
  },
  {
   "cell_type": "markdown",
   "id": "e729daba",
   "metadata": {},
   "source": [
    "# No. of Rows & Columns"
   ]
  },
  {
   "cell_type": "code",
   "execution_count": 5,
   "id": "f1f5c67b",
   "metadata": {},
   "outputs": [
    {
     "name": "stdout",
     "output_type": "stream",
     "text": [
      "No. of rows are 9551 and no. of columns are 21\n"
     ]
    }
   ],
   "source": [
    "print(f'No. of rows are {data.shape[0]} and no. of columns are {data.shape[1]}')"
   ]
  },
  {
   "cell_type": "markdown",
   "id": "d36963a0",
   "metadata": {},
   "source": [
    "# Missing Values"
   ]
  },
  {
   "cell_type": "code",
   "execution_count": 6,
   "id": "e32e43ea",
   "metadata": {},
   "outputs": [
    {
     "data": {
      "text/plain": [
       "Restaurant ID           0\n",
       "Restaurant Name         0\n",
       "Country Code            0\n",
       "City                    0\n",
       "Address                 0\n",
       "Locality                0\n",
       "Locality Verbose        0\n",
       "Longitude               0\n",
       "Latitude                0\n",
       "Cuisines                9\n",
       "Average Cost for two    0\n",
       "Currency                0\n",
       "Has Table booking       0\n",
       "Has Online delivery     0\n",
       "Is delivering now       0\n",
       "Switch to order menu    0\n",
       "Price range             0\n",
       "Aggregate rating        0\n",
       "Rating color            0\n",
       "Rating text             0\n",
       "Votes                   0\n",
       "dtype: int64"
      ]
     },
     "execution_count": 6,
     "metadata": {},
     "output_type": "execute_result"
    }
   ],
   "source": [
    "data.isnull().sum()"
   ]
  },
  {
   "cell_type": "code",
   "execution_count": 7,
   "id": "60c65336",
   "metadata": {},
   "outputs": [
    {
     "name": "stdout",
     "output_type": "stream",
     "text": [
      "We can clearly observe that there are no missing values in the dataset\n"
     ]
    }
   ],
   "source": [
    "print('We can clearly observe that there are no missing values in the dataset')"
   ]
  },
  {
   "cell_type": "markdown",
   "id": "e95201be",
   "metadata": {},
   "source": [
    "# Checking the Varible Type- Numerical or Object"
   ]
  },
  {
   "cell_type": "code",
   "execution_count": 8,
   "id": "8e623811",
   "metadata": {},
   "outputs": [
    {
     "name": "stdout",
     "output_type": "stream",
     "text": [
      "<class 'pandas.core.frame.DataFrame'>\n",
      "RangeIndex: 9551 entries, 0 to 9550\n",
      "Data columns (total 21 columns):\n",
      " #   Column                Non-Null Count  Dtype  \n",
      "---  ------                --------------  -----  \n",
      " 0   Restaurant ID         9551 non-null   int64  \n",
      " 1   Restaurant Name       9551 non-null   object \n",
      " 2   Country Code          9551 non-null   int64  \n",
      " 3   City                  9551 non-null   object \n",
      " 4   Address               9551 non-null   object \n",
      " 5   Locality              9551 non-null   object \n",
      " 6   Locality Verbose      9551 non-null   object \n",
      " 7   Longitude             9551 non-null   float64\n",
      " 8   Latitude              9551 non-null   float64\n",
      " 9   Cuisines              9542 non-null   object \n",
      " 10  Average Cost for two  9551 non-null   int64  \n",
      " 11  Currency              9551 non-null   object \n",
      " 12  Has Table booking     9551 non-null   object \n",
      " 13  Has Online delivery   9551 non-null   object \n",
      " 14  Is delivering now     9551 non-null   object \n",
      " 15  Switch to order menu  9551 non-null   object \n",
      " 16  Price range           9551 non-null   int64  \n",
      " 17  Aggregate rating      9551 non-null   float64\n",
      " 18  Rating color          9551 non-null   object \n",
      " 19  Rating text           9551 non-null   object \n",
      " 20  Votes                 9551 non-null   int64  \n",
      "dtypes: float64(3), int64(5), object(13)\n",
      "memory usage: 1.5+ MB\n"
     ]
    }
   ],
   "source": [
    "data.info()"
   ]
  },
  {
   "cell_type": "code",
   "execution_count": 9,
   "id": "bd0656f0",
   "metadata": {},
   "outputs": [
    {
     "name": "stdout",
     "output_type": "stream",
     "text": [
      "Observation: There are 8 Numerical columns and 13 Categorical Columns in the dataset\n"
     ]
    }
   ],
   "source": [
    "print('Observation: There are 8 Numerical columns and 13 Categorical Columns in the dataset')"
   ]
  },
  {
   "cell_type": "markdown",
   "id": "bcb52885",
   "metadata": {},
   "source": [
    "# Checking Imbalance of Target Varibale"
   ]
  },
  {
   "cell_type": "code",
   "execution_count": 10,
   "id": "ff431046",
   "metadata": {},
   "outputs": [
    {
     "data": {
      "text/plain": [
       "'Observation: The data is imbalance in nature. '"
      ]
     },
     "metadata": {},
     "output_type": "display_data"
    }
   ],
   "source": [
    "data['Aggregate rating'].value_counts()\n",
    "display('Observation: The data is imbalance in nature. ')"
   ]
  },
  {
   "cell_type": "code",
   "execution_count": 11,
   "id": "233cb3a6",
   "metadata": {},
   "outputs": [],
   "source": [
    "me=data['Aggregate rating'].mean()\n",
    "md=data['Aggregate rating'].median()\n",
    "mod=data['Aggregate rating'].mode()[0]"
   ]
  },
  {
   "cell_type": "code",
   "execution_count": 12,
   "id": "110a157b",
   "metadata": {},
   "outputs": [
    {
     "data": {
      "image/png": "[encoded data removed]",
      "text/plain": [
       "<Figure size 432x288 with 1 Axes>"
      ]
     },
     "metadata": {
      "needs_background": "light"
     },
     "output_type": "display_data"
    }
   ],
   "source": [
    "#displaying the mean, median and mode\n",
    "sns.kdeplot(data['Aggregate rating'])\n",
    "plt.axvline(me, label='mean',color='Orange')\n",
    "plt.axvline(md, label='median',color='Red')\n",
    "plt.axvline(mod, label='mode',color='Yellow')\n",
    "\n",
    "plt.legend()\n",
    "plt.show()"
   ]
  },
  {
   "cell_type": "code",
   "execution_count": 13,
   "id": "679dbb9f",
   "metadata": {},
   "outputs": [
    {
     "data": {
      "image/png": "[encoded data removed]",
      "text/plain": [
       "<Figure size 576x360 with 1 Axes>"
      ]
     },
     "metadata": {
      "needs_background": "light"
     },
     "output_type": "display_data"
    }
   ],
   "source": [
    "plt.figure(figsize=(8,5))\n",
    "data['Aggregate rating'].plot(kind='kde')\n",
    "plt.show()"
   ]
  },
  {
   "cell_type": "markdown",
   "id": "b69dfa05",
   "metadata": {},
   "source": [
    "# Data Type Conversion"
   ]
  },
  {
   "cell_type": "markdown",
   "id": "75822a08",
   "metadata": {},
   "source": [
    "We are performing label encoding on categorical columns and try to generate a new columns out of those columns. The columns are: 'Has Table booking', 'Has Online delivery','Is delivering now', 'Switch to order menu', "
   ]
  },
  {
   "cell_type": "code",
   "execution_count": 14,
   "id": "74d9122f",
   "metadata": {},
   "outputs": [
    {
     "data": {
      "text/html": [
       "<div>\n",
       "<style scoped>\n",
       "    .dataframe tbody tr th:only-of-type {\n",
       "        vertical-align: middle;\n",
       "    }\n",
       "\n",
       "    .dataframe tbody tr th {\n",
       "        vertical-align: top;\n",
       "    }\n",
       "\n",
       "    .dataframe thead th {\n",
       "        text-align: right;\n",
       "    }\n",
       "</style>\n",
       "<table border=\"1\" class=\"dataframe\">\n",
       "  <thead>\n",
       "    <tr style=\"text-align: right;\">\n",
       "      <th></th>\n",
       "      <th>Has Table booking</th>\n",
       "      <th>Has Online delivery</th>\n",
       "      <th>Is delivering now</th>\n",
       "      <th>Switch to order menu</th>\n",
       "    </tr>\n",
       "  </thead>\n",
       "  <tbody>\n",
       "    <tr>\n",
       "      <th>0</th>\n",
       "      <td>Yes</td>\n",
       "      <td>No</td>\n",
       "      <td>No</td>\n",
       "      <td>No</td>\n",
       "    </tr>\n",
       "    <tr>\n",
       "      <th>1</th>\n",
       "      <td>Yes</td>\n",
       "      <td>No</td>\n",
       "      <td>No</td>\n",
       "      <td>No</td>\n",
       "    </tr>\n",
       "    <tr>\n",
       "      <th>2</th>\n",
       "      <td>Yes</td>\n",
       "      <td>No</td>\n",
       "      <td>No</td>\n",
       "      <td>No</td>\n",
       "    </tr>\n",
       "    <tr>\n",
       "      <th>3</th>\n",
       "      <td>No</td>\n",
       "      <td>No</td>\n",
       "      <td>No</td>\n",
       "      <td>No</td>\n",
       "    </tr>\n",
       "    <tr>\n",
       "      <th>4</th>\n",
       "      <td>Yes</td>\n",
       "      <td>No</td>\n",
       "      <td>No</td>\n",
       "      <td>No</td>\n",
       "    </tr>\n",
       "    <tr>\n",
       "      <th>...</th>\n",
       "      <td>...</td>\n",
       "      <td>...</td>\n",
       "      <td>...</td>\n",
       "      <td>...</td>\n",
       "    </tr>\n",
       "    <tr>\n",
       "      <th>9546</th>\n",
       "      <td>No</td>\n",
       "      <td>No</td>\n",
       "      <td>No</td>\n",
       "      <td>No</td>\n",
       "    </tr>\n",
       "    <tr>\n",
       "      <th>9547</th>\n",
       "      <td>No</td>\n",
       "      <td>No</td>\n",
       "      <td>No</td>\n",
       "      <td>No</td>\n",
       "    </tr>\n",
       "    <tr>\n",
       "      <th>9548</th>\n",
       "      <td>No</td>\n",
       "      <td>No</td>\n",
       "      <td>No</td>\n",
       "      <td>No</td>\n",
       "    </tr>\n",
       "    <tr>\n",
       "      <th>9549</th>\n",
       "      <td>No</td>\n",
       "      <td>No</td>\n",
       "      <td>No</td>\n",
       "      <td>No</td>\n",
       "    </tr>\n",
       "    <tr>\n",
       "      <th>9550</th>\n",
       "      <td>No</td>\n",
       "      <td>No</td>\n",
       "      <td>No</td>\n",
       "      <td>No</td>\n",
       "    </tr>\n",
       "  </tbody>\n",
       "</table>\n",
       "<p>9551 rows × 4 columns</p>\n",
       "</div>"
      ],
      "text/plain": [
       "     Has Table booking Has Online delivery Is delivering now  \\\n",
       "0                  Yes                  No                No   \n",
       "1                  Yes                  No                No   \n",
       "2                  Yes                  No                No   \n",
       "3                   No                  No                No   \n",
       "4                  Yes                  No                No   \n",
       "...                ...                 ...               ...   \n",
       "9546                No                  No                No   \n",
       "9547                No                  No                No   \n",
       "9548                No                  No                No   \n",
       "9549                No                  No                No   \n",
       "9550                No                  No                No   \n",
       "\n",
       "     Switch to order menu  \n",
       "0                      No  \n",
       "1                      No  \n",
       "2                      No  \n",
       "3                      No  \n",
       "4                      No  \n",
       "...                   ...  \n",
       "9546                   No  \n",
       "9547                   No  \n",
       "9548                   No  \n",
       "9549                   No  \n",
       "9550                   No  \n",
       "\n",
       "[9551 rows x 4 columns]"
      ]
     },
     "execution_count": 14,
     "metadata": {},
     "output_type": "execute_result"
    }
   ],
   "source": [
    "data[['Has Table booking', 'Has Online delivery','Is delivering now', 'Switch to order menu']]"
   ]
  },
  {
   "cell_type": "code",
   "execution_count": 15,
   "id": "3106f535",
   "metadata": {},
   "outputs": [
    {
     "data": {
      "text/plain": [
       "No     8393\n",
       "Yes    1158\n",
       "Name: Has Table booking, dtype: int64"
      ]
     },
     "execution_count": 15,
     "metadata": {},
     "output_type": "execute_result"
    }
   ],
   "source": [
    "data['Has Table booking'].value_counts()"
   ]
  },
  {
   "cell_type": "code",
   "execution_count": 16,
   "id": "1799ecca",
   "metadata": {},
   "outputs": [],
   "source": [
    "from sklearn import preprocessing"
   ]
  },
  {
   "cell_type": "code",
   "execution_count": 17,
   "id": "3dba53e6",
   "metadata": {},
   "outputs": [
    {
     "data": {
      "text/plain": [
       "<bound method Series.unique of 0       1\n",
       "1       1\n",
       "2       1\n",
       "3       0\n",
       "4       1\n",
       "       ..\n",
       "9546    0\n",
       "9547    0\n",
       "9548    0\n",
       "9549    0\n",
       "9550    0\n",
       "Name: Has_Table_booking_Encoded, Length: 9551, dtype: int32>"
      ]
     },
     "execution_count": 17,
     "metadata": {},
     "output_type": "execute_result"
    }
   ],
   "source": [
    "label_encoder=preprocessing.LabelEncoder()\n",
    "\n",
    "data['Has_Table_booking_Encoded']=label_encoder.fit_transform(data['Has Table booking'])\n",
    "data['Has_Table_booking_Encoded'].unique"
   ]
  },
  {
   "cell_type": "code",
   "execution_count": 18,
   "id": "a223f895",
   "metadata": {},
   "outputs": [
    {
     "data": {
      "text/plain": [
       "0    8393\n",
       "1    1158\n",
       "Name: Has_Table_booking_Encoded, dtype: int64"
      ]
     },
     "execution_count": 18,
     "metadata": {},
     "output_type": "execute_result"
    }
   ],
   "source": [
    "data['Has_Table_booking_Encoded'].value_counts() #No is represnted as 0 and Yes is represented as 1"
   ]
  },
  {
   "cell_type": "code",
   "execution_count": 305,
   "id": "cd7b8ca8",
   "metadata": {},
   "outputs": [
    {
     "data": {
      "text/plain": [
       "No     7100\n",
       "Yes    2451\n",
       "Name: Has Online delivery, dtype: int64"
      ]
     },
     "execution_count": 305,
     "metadata": {},
     "output_type": "execute_result"
    }
   ],
   "source": [
    "data['Has Online delivery'].value_counts()"
   ]
  },
  {
   "cell_type": "markdown",
   "id": "ed3695f6",
   "metadata": {},
   "source": [
    "## Feature Engineering - Creating New Column from different columns like-Has Online delivery,Is delivering now,Switch to order menu"
   ]
  },
  {
   "cell_type": "code",
   "execution_count": 20,
   "id": "5fdfa131",
   "metadata": {},
   "outputs": [],
   "source": [
    "data['Has_Online_delivery_Encoded']=label_encoder.fit_transform(data['Has Online delivery'])"
   ]
  },
  {
   "cell_type": "code",
   "execution_count": 21,
   "id": "c7f4f579",
   "metadata": {},
   "outputs": [
    {
     "data": {
      "text/plain": [
       "0    7100\n",
       "1    2451\n",
       "Name: Has_Online_delivery_Encoded, dtype: int64"
      ]
     },
     "execution_count": 21,
     "metadata": {},
     "output_type": "execute_result"
    }
   ],
   "source": [
    "data['Has_Online_delivery_Encoded'].value_counts()#No is represnted as 0 and Yes is represented as 1"
   ]
  },
  {
   "cell_type": "code",
   "execution_count": 22,
   "id": "59261469",
   "metadata": {},
   "outputs": [
    {
     "data": {
      "text/plain": [
       "No     9517\n",
       "Yes      34\n",
       "Name: Is delivering now, dtype: int64"
      ]
     },
     "execution_count": 22,
     "metadata": {},
     "output_type": "execute_result"
    }
   ],
   "source": [
    "data['Is delivering now'].value_counts()"
   ]
  },
  {
   "cell_type": "code",
   "execution_count": 23,
   "id": "92076fcf",
   "metadata": {},
   "outputs": [],
   "source": [
    "data['Is_delivering_now_Encoded']=label_encoder.fit_transform(data['Is delivering now'])"
   ]
  },
  {
   "cell_type": "code",
   "execution_count": 24,
   "id": "194b1867",
   "metadata": {},
   "outputs": [
    {
     "data": {
      "text/plain": [
       "0    9517\n",
       "1      34\n",
       "Name: Is_delivering_now_Encoded, dtype: int64"
      ]
     },
     "execution_count": 24,
     "metadata": {},
     "output_type": "execute_result"
    }
   ],
   "source": [
    "data['Is_delivering_now_Encoded'].value_counts()#No is represnted as 0 and Yes is represented as 1"
   ]
  },
  {
   "cell_type": "code",
   "execution_count": 25,
   "id": "d634c5ae",
   "metadata": {},
   "outputs": [
    {
     "data": {
      "text/plain": [
       "No    9551\n",
       "Name: Switch to order menu, dtype: int64"
      ]
     },
     "execution_count": 25,
     "metadata": {},
     "output_type": "execute_result"
    }
   ],
   "source": [
    "data['Switch to order menu'].value_counts()"
   ]
  },
  {
   "cell_type": "code",
   "execution_count": 26,
   "id": "dd6c9df9",
   "metadata": {},
   "outputs": [],
   "source": [
    "data['Switch_to_order_menu_Encoded']=label_encoder.fit_transform(data['Switch to order menu'])"
   ]
  },
  {
   "cell_type": "code",
   "execution_count": 27,
   "id": "8246722b",
   "metadata": {},
   "outputs": [
    {
     "data": {
      "text/plain": [
       "0    9551\n",
       "Name: Switch_to_order_menu_Encoded, dtype: int64"
      ]
     },
     "execution_count": 27,
     "metadata": {},
     "output_type": "execute_result"
    }
   ],
   "source": [
    "data['Switch_to_order_menu_Encoded'].value_counts()#No is represnted as 0 "
   ]
  },
  {
   "cell_type": "markdown",
   "id": "f2c112d0",
   "metadata": {},
   "source": [
    "# Things to Perform:\n",
    "#### Descriptive Analysis\n",
    "#### Calculate basic statistical measures (mean, median, standard deviation, etc.) for numerical columns.\n",
    "#### Explore the distribution of categorical variables like \"Country Code\", \"City\" and \"Cuisines\".\n",
    "#### Identify the top cuisines and cities with the highest number of restaurants."
   ]
  },
  {
   "cell_type": "markdown",
   "id": "01831c15",
   "metadata": {},
   "source": [
    "# Splitting the Data into Numerical and Categorical Data"
   ]
  },
  {
   "cell_type": "code",
   "execution_count": 28,
   "id": "179f4760",
   "metadata": {},
   "outputs": [],
   "source": [
    "num_cols=data.select_dtypes(include='number')"
   ]
  },
  {
   "cell_type": "code",
   "execution_count": 29,
   "id": "bdba7fb3",
   "metadata": {},
   "outputs": [
    {
     "data": {
      "text/plain": [
       "Index(['Restaurant ID', 'Country Code', 'Longitude', 'Latitude',\n",
       "       'Average Cost for two', 'Price range', 'Aggregate rating', 'Votes',\n",
       "       'Has_Table_booking_Encoded', 'Has_Online_delivery_Encoded',\n",
       "       'Is_delivering_now_Encoded', 'Switch_to_order_menu_Encoded'],\n",
       "      dtype='object')"
      ]
     },
     "execution_count": 29,
     "metadata": {},
     "output_type": "execute_result"
    }
   ],
   "source": [
    "num_cols.columns"
   ]
  },
  {
   "cell_type": "code",
   "execution_count": 30,
   "id": "002c8e2e",
   "metadata": {},
   "outputs": [],
   "source": [
    "cat_cols=data.select_dtypes(include='object')"
   ]
  },
  {
   "cell_type": "code",
   "execution_count": 31,
   "id": "d924462d",
   "metadata": {},
   "outputs": [
    {
     "data": {
      "text/plain": [
       "Index(['Restaurant Name', 'City', 'Address', 'Locality', 'Locality Verbose',\n",
       "       'Cuisines', 'Currency', 'Has Table booking', 'Has Online delivery',\n",
       "       'Is delivering now', 'Switch to order menu', 'Rating color',\n",
       "       'Rating text'],\n",
       "      dtype='object')"
      ]
     },
     "execution_count": 31,
     "metadata": {},
     "output_type": "execute_result"
    }
   ],
   "source": [
    "cat_cols.columns"
   ]
  },
  {
   "cell_type": "markdown",
   "id": "33f0270f",
   "metadata": {},
   "source": [
    "# Calculating Mean, Median, Standard Deviation for Numerical variables"
   ]
  },
  {
   "cell_type": "code",
   "execution_count": 32,
   "id": "c7959b7d",
   "metadata": {},
   "outputs": [
    {
     "data": {
      "text/html": [
       "<div>\n",
       "<style scoped>\n",
       "    .dataframe tbody tr th:only-of-type {\n",
       "        vertical-align: middle;\n",
       "    }\n",
       "\n",
       "    .dataframe tbody tr th {\n",
       "        vertical-align: top;\n",
       "    }\n",
       "\n",
       "    .dataframe thead th {\n",
       "        text-align: right;\n",
       "    }\n",
       "</style>\n",
       "<table border=\"1\" class=\"dataframe\">\n",
       "  <thead>\n",
       "    <tr style=\"text-align: right;\">\n",
       "      <th></th>\n",
       "      <th>count</th>\n",
       "      <th>mean</th>\n",
       "      <th>std</th>\n",
       "      <th>min</th>\n",
       "      <th>25%</th>\n",
       "      <th>50%</th>\n",
       "      <th>75%</th>\n",
       "      <th>max</th>\n",
       "    </tr>\n",
       "  </thead>\n",
       "  <tbody>\n",
       "    <tr>\n",
       "      <th>Restaurant ID</th>\n",
       "      <td>9551.0</td>\n",
       "      <td>9.051128e+06</td>\n",
       "      <td>8.791521e+06</td>\n",
       "      <td>53.000000</td>\n",
       "      <td>301962.500000</td>\n",
       "      <td>6.004089e+06</td>\n",
       "      <td>1.835229e+07</td>\n",
       "      <td>1.850065e+07</td>\n",
       "    </tr>\n",
       "    <tr>\n",
       "      <th>Country Code</th>\n",
       "      <td>9551.0</td>\n",
       "      <td>1.836562e+01</td>\n",
       "      <td>5.675055e+01</td>\n",
       "      <td>1.000000</td>\n",
       "      <td>1.000000</td>\n",
       "      <td>1.000000e+00</td>\n",
       "      <td>1.000000e+00</td>\n",
       "      <td>2.160000e+02</td>\n",
       "    </tr>\n",
       "    <tr>\n",
       "      <th>Longitude</th>\n",
       "      <td>9551.0</td>\n",
       "      <td>6.412657e+01</td>\n",
       "      <td>4.146706e+01</td>\n",
       "      <td>-157.948486</td>\n",
       "      <td>77.081343</td>\n",
       "      <td>7.719196e+01</td>\n",
       "      <td>7.728201e+01</td>\n",
       "      <td>1.748321e+02</td>\n",
       "    </tr>\n",
       "    <tr>\n",
       "      <th>Latitude</th>\n",
       "      <td>9551.0</td>\n",
       "      <td>2.585438e+01</td>\n",
       "      <td>1.100794e+01</td>\n",
       "      <td>-41.330428</td>\n",
       "      <td>28.478713</td>\n",
       "      <td>2.857047e+01</td>\n",
       "      <td>2.864276e+01</td>\n",
       "      <td>5.597698e+01</td>\n",
       "    </tr>\n",
       "    <tr>\n",
       "      <th>Average Cost for two</th>\n",
       "      <td>9551.0</td>\n",
       "      <td>1.199211e+03</td>\n",
       "      <td>1.612118e+04</td>\n",
       "      <td>0.000000</td>\n",
       "      <td>250.000000</td>\n",
       "      <td>4.000000e+02</td>\n",
       "      <td>7.000000e+02</td>\n",
       "      <td>8.000000e+05</td>\n",
       "    </tr>\n",
       "    <tr>\n",
       "      <th>Price range</th>\n",
       "      <td>9551.0</td>\n",
       "      <td>1.804837e+00</td>\n",
       "      <td>9.056088e-01</td>\n",
       "      <td>1.000000</td>\n",
       "      <td>1.000000</td>\n",
       "      <td>2.000000e+00</td>\n",
       "      <td>2.000000e+00</td>\n",
       "      <td>4.000000e+00</td>\n",
       "    </tr>\n",
       "    <tr>\n",
       "      <th>Aggregate rating</th>\n",
       "      <td>9551.0</td>\n",
       "      <td>2.666370e+00</td>\n",
       "      <td>1.516378e+00</td>\n",
       "      <td>0.000000</td>\n",
       "      <td>2.500000</td>\n",
       "      <td>3.200000e+00</td>\n",
       "      <td>3.700000e+00</td>\n",
       "      <td>4.900000e+00</td>\n",
       "    </tr>\n",
       "    <tr>\n",
       "      <th>Votes</th>\n",
       "      <td>9551.0</td>\n",
       "      <td>1.569097e+02</td>\n",
       "      <td>4.301691e+02</td>\n",
       "      <td>0.000000</td>\n",
       "      <td>5.000000</td>\n",
       "      <td>3.100000e+01</td>\n",
       "      <td>1.310000e+02</td>\n",
       "      <td>1.093400e+04</td>\n",
       "    </tr>\n",
       "    <tr>\n",
       "      <th>Has_Table_booking_Encoded</th>\n",
       "      <td>9551.0</td>\n",
       "      <td>1.212438e-01</td>\n",
       "      <td>3.264275e-01</td>\n",
       "      <td>0.000000</td>\n",
       "      <td>0.000000</td>\n",
       "      <td>0.000000e+00</td>\n",
       "      <td>0.000000e+00</td>\n",
       "      <td>1.000000e+00</td>\n",
       "    </tr>\n",
       "    <tr>\n",
       "      <th>Has_Online_delivery_Encoded</th>\n",
       "      <td>9551.0</td>\n",
       "      <td>2.566223e-01</td>\n",
       "      <td>4.367920e-01</td>\n",
       "      <td>0.000000</td>\n",
       "      <td>0.000000</td>\n",
       "      <td>0.000000e+00</td>\n",
       "      <td>1.000000e+00</td>\n",
       "      <td>1.000000e+00</td>\n",
       "    </tr>\n",
       "    <tr>\n",
       "      <th>Is_delivering_now_Encoded</th>\n",
       "      <td>9551.0</td>\n",
       "      <td>3.559837e-03</td>\n",
       "      <td>5.956119e-02</td>\n",
       "      <td>0.000000</td>\n",
       "      <td>0.000000</td>\n",
       "      <td>0.000000e+00</td>\n",
       "      <td>0.000000e+00</td>\n",
       "      <td>1.000000e+00</td>\n",
       "    </tr>\n",
       "    <tr>\n",
       "      <th>Switch_to_order_menu_Encoded</th>\n",
       "      <td>9551.0</td>\n",
       "      <td>0.000000e+00</td>\n",
       "      <td>0.000000e+00</td>\n",
       "      <td>0.000000</td>\n",
       "      <td>0.000000</td>\n",
       "      <td>0.000000e+00</td>\n",
       "      <td>0.000000e+00</td>\n",
       "      <td>0.000000e+00</td>\n",
       "    </tr>\n",
       "  </tbody>\n",
       "</table>\n",
       "</div>"
      ],
      "text/plain": [
       "                               count          mean           std         min  \\\n",
       "Restaurant ID                 9551.0  9.051128e+06  8.791521e+06   53.000000   \n",
       "Country Code                  9551.0  1.836562e+01  5.675055e+01    1.000000   \n",
       "Longitude                     9551.0  6.412657e+01  4.146706e+01 -157.948486   \n",
       "Latitude                      9551.0  2.585438e+01  1.100794e+01  -41.330428   \n",
       "Average Cost for two          9551.0  1.199211e+03  1.612118e+04    0.000000   \n",
       "Price range                   9551.0  1.804837e+00  9.056088e-01    1.000000   \n",
       "Aggregate rating              9551.0  2.666370e+00  1.516378e+00    0.000000   \n",
       "Votes                         9551.0  1.569097e+02  4.301691e+02    0.000000   \n",
       "Has_Table_booking_Encoded     9551.0  1.212438e-01  3.264275e-01    0.000000   \n",
       "Has_Online_delivery_Encoded   9551.0  2.566223e-01  4.367920e-01    0.000000   \n",
       "Is_delivering_now_Encoded     9551.0  3.559837e-03  5.956119e-02    0.000000   \n",
       "Switch_to_order_menu_Encoded  9551.0  0.000000e+00  0.000000e+00    0.000000   \n",
       "\n",
       "                                        25%           50%           75%  \\\n",
       "Restaurant ID                 301962.500000  6.004089e+06  1.835229e+07   \n",
       "Country Code                       1.000000  1.000000e+00  1.000000e+00   \n",
       "Longitude                         77.081343  7.719196e+01  7.728201e+01   \n",
       "Latitude                          28.478713  2.857047e+01  2.864276e+01   \n",
       "Average Cost for two             250.000000  4.000000e+02  7.000000e+02   \n",
       "Price range                        1.000000  2.000000e+00  2.000000e+00   \n",
       "Aggregate rating                   2.500000  3.200000e+00  3.700000e+00   \n",
       "Votes                              5.000000  3.100000e+01  1.310000e+02   \n",
       "Has_Table_booking_Encoded          0.000000  0.000000e+00  0.000000e+00   \n",
       "Has_Online_delivery_Encoded        0.000000  0.000000e+00  1.000000e+00   \n",
       "Is_delivering_now_Encoded          0.000000  0.000000e+00  0.000000e+00   \n",
       "Switch_to_order_menu_Encoded       0.000000  0.000000e+00  0.000000e+00   \n",
       "\n",
       "                                       max  \n",
       "Restaurant ID                 1.850065e+07  \n",
       "Country Code                  2.160000e+02  \n",
       "Longitude                     1.748321e+02  \n",
       "Latitude                      5.597698e+01  \n",
       "Average Cost for two          8.000000e+05  \n",
       "Price range                   4.000000e+00  \n",
       "Aggregate rating              4.900000e+00  \n",
       "Votes                         1.093400e+04  \n",
       "Has_Table_booking_Encoded     1.000000e+00  \n",
       "Has_Online_delivery_Encoded   1.000000e+00  \n",
       "Is_delivering_now_Encoded     1.000000e+00  \n",
       "Switch_to_order_menu_Encoded  0.000000e+00  "
      ]
     },
     "execution_count": 32,
     "metadata": {},
     "output_type": "execute_result"
    }
   ],
   "source": [
    "data.describe().T"
   ]
  },
  {
   "cell_type": "code",
   "execution_count": 33,
   "id": "e3e6ac85",
   "metadata": {},
   "outputs": [
    {
     "data": {
      "text/plain": [
       "Restaurant ID                   9.051128e+06\n",
       "Country Code                    1.836562e+01\n",
       "Longitude                       6.412657e+01\n",
       "Latitude                        2.585438e+01\n",
       "Average Cost for two            1.199211e+03\n",
       "Price range                     1.804837e+00\n",
       "Aggregate rating                2.666370e+00\n",
       "Votes                           1.569097e+02\n",
       "Has_Table_booking_Encoded       1.212438e-01\n",
       "Has_Online_delivery_Encoded     2.566223e-01\n",
       "Is_delivering_now_Encoded       3.559837e-03\n",
       "Switch_to_order_menu_Encoded    0.000000e+00\n",
       "dtype: float64"
      ]
     },
     "execution_count": 33,
     "metadata": {},
     "output_type": "execute_result"
    }
   ],
   "source": [
    "num_cols.mean()"
   ]
  },
  {
   "cell_type": "code",
   "execution_count": 34,
   "id": "d151d4f9",
   "metadata": {},
   "outputs": [
    {
     "data": {
      "text/plain": [
       "Restaurant ID                   6.004089e+06\n",
       "Country Code                    1.000000e+00\n",
       "Longitude                       7.719196e+01\n",
       "Latitude                        2.857047e+01\n",
       "Average Cost for two            4.000000e+02\n",
       "Price range                     2.000000e+00\n",
       "Aggregate rating                3.200000e+00\n",
       "Votes                           3.100000e+01\n",
       "Has_Table_booking_Encoded       0.000000e+00\n",
       "Has_Online_delivery_Encoded     0.000000e+00\n",
       "Is_delivering_now_Encoded       0.000000e+00\n",
       "Switch_to_order_menu_Encoded    0.000000e+00\n",
       "dtype: float64"
      ]
     },
     "execution_count": 34,
     "metadata": {},
     "output_type": "execute_result"
    }
   ],
   "source": [
    "num_cols.median()"
   ]
  },
  {
   "cell_type": "code",
   "execution_count": 35,
   "id": "ce7e8db7",
   "metadata": {},
   "outputs": [
    {
     "data": {
      "text/plain": [
       "Restaurant ID                   8.791521e+06\n",
       "Country Code                    5.675055e+01\n",
       "Longitude                       4.146706e+01\n",
       "Latitude                        1.100794e+01\n",
       "Average Cost for two            1.612118e+04\n",
       "Price range                     9.056088e-01\n",
       "Aggregate rating                1.516378e+00\n",
       "Votes                           4.301691e+02\n",
       "Has_Table_booking_Encoded       3.264275e-01\n",
       "Has_Online_delivery_Encoded     4.367920e-01\n",
       "Is_delivering_now_Encoded       5.956119e-02\n",
       "Switch_to_order_menu_Encoded    0.000000e+00\n",
       "dtype: float64"
      ]
     },
     "execution_count": 35,
     "metadata": {},
     "output_type": "execute_result"
    }
   ],
   "source": [
    "num_cols.std()"
   ]
  },
  {
   "cell_type": "markdown",
   "id": "c9af7d37",
   "metadata": {},
   "source": [
    "*)Explore the distribution of categorical variables like \"Country Code\", \"City\" and \"Cuisines\"."
   ]
  },
  {
   "cell_type": "code",
   "execution_count": 36,
   "id": "347091d9",
   "metadata": {},
   "outputs": [
    {
     "data": {
      "text/plain": [
       "New Delhi           5473\n",
       "Gurgaon             1118\n",
       "Noida               1080\n",
       "Faridabad            251\n",
       "Ghaziabad             25\n",
       "                    ... \n",
       "Panchkula              1\n",
       "Mc Millan              1\n",
       "Mayfield               1\n",
       "Macedon                1\n",
       "Vineland Station       1\n",
       "Name: City, Length: 141, dtype: int64"
      ]
     },
     "execution_count": 36,
     "metadata": {},
     "output_type": "execute_result"
    }
   ],
   "source": [
    "cat_cols['City'].value_counts()"
   ]
  },
  {
   "cell_type": "code",
   "execution_count": 37,
   "id": "75e3053f",
   "metadata": {},
   "outputs": [
    {
     "data": {
      "image/png": "[encoded data removed]",
      "text/plain": [
       "<Figure size 720x576 with 1 Axes>"
      ]
     },
     "metadata": {},
     "output_type": "display_data"
    }
   ],
   "source": [
    "#We will find out the top-5 city which having the highest count\n",
    "\n",
    "plt.figure(figsize=(10,8))\n",
    "explode = (0.05, 0,0,0, 0)\n",
    "cat_cols['City'].value_counts()[:5].plot(kind='pie', autopct='%.2f', explode=explode)\n",
    "plt.title('Top 5 city which having highest restaurants')\n",
    "plt.show()"
   ]
  },
  {
   "cell_type": "code",
   "execution_count": 38,
   "id": "c36cc878",
   "metadata": {},
   "outputs": [
    {
     "name": "stdout",
     "output_type": "stream",
     "text": [
      "Observation: 68.87% of restaurants are in Delhi, 14.07% in Gurgaon, 13.59% in Noida, 3.16% in Faridabad and 0.31% in Ghaziabad\n"
     ]
    }
   ],
   "source": [
    "print('Observation: 68.87% of restaurants are in Delhi, 14.07% in Gurgaon, 13.59% in Noida, 3.16% in Faridabad and 0.31% in Ghaziabad')"
   ]
  },
  {
   "cell_type": "code",
   "execution_count": 39,
   "id": "888066e4",
   "metadata": {},
   "outputs": [
    {
     "data": {
      "image/png": "[encoded data removed]",
      "text/plain": [
       "<Figure size 720x576 with 1 Axes>"
      ]
     },
     "metadata": {},
     "output_type": "display_data"
    }
   ],
   "source": [
    "plt.figure(figsize=(10,8))\n",
    "cat_cols['City'].value_counts().sort_values(ascending=True)[:15].plot(kind='pie', autopct='%.2f')\n",
    "plt.title('Least 15 city which having less no. of restaurants ')\n",
    "plt.show()"
   ]
  },
  {
   "cell_type": "code",
   "execution_count": 40,
   "id": "1aced006",
   "metadata": {},
   "outputs": [],
   "source": [
    "#We will try to make a new column based on the Country Code"
   ]
  },
  {
   "cell_type": "code",
   "execution_count": 41,
   "id": "59b789c9",
   "metadata": {},
   "outputs": [
    {
     "data": {
      "text/plain": [
       "37        4\n",
       "184      20\n",
       "166      20\n",
       "191      20\n",
       "94       21\n",
       "162      22\n",
       "14       24\n",
       "208      34\n",
       "148      40\n",
       "30       60\n",
       "214      60\n",
       "189      60\n",
       "215      80\n",
       "216     434\n",
       "1      8652\n",
       "Name: Country Code, dtype: int64"
      ]
     },
     "execution_count": 41,
     "metadata": {},
     "output_type": "execute_result"
    }
   ],
   "source": [
    "data['Country Code'].value_counts().sort_values(ascending=True)"
   ]
  },
  {
   "cell_type": "code",
   "execution_count": 42,
   "id": "9099ba93",
   "metadata": {},
   "outputs": [
    {
     "data": {
      "text/html": [
       "<div>\n",
       "<style scoped>\n",
       "    .dataframe tbody tr th:only-of-type {\n",
       "        vertical-align: middle;\n",
       "    }\n",
       "\n",
       "    .dataframe tbody tr th {\n",
       "        vertical-align: top;\n",
       "    }\n",
       "\n",
       "    .dataframe thead th {\n",
       "        text-align: right;\n",
       "    }\n",
       "</style>\n",
       "<table border=\"1\" class=\"dataframe\">\n",
       "  <thead>\n",
       "    <tr style=\"text-align: right;\">\n",
       "      <th></th>\n",
       "      <th>Restaurant ID</th>\n",
       "      <th>Restaurant Name</th>\n",
       "      <th>Country Code</th>\n",
       "      <th>City</th>\n",
       "      <th>Address</th>\n",
       "      <th>Locality</th>\n",
       "      <th>Locality Verbose</th>\n",
       "      <th>Longitude</th>\n",
       "      <th>Latitude</th>\n",
       "      <th>Cuisines</th>\n",
       "      <th>...</th>\n",
       "      <th>Price range</th>\n",
       "      <th>Aggregate rating</th>\n",
       "      <th>Rating color</th>\n",
       "      <th>Rating text</th>\n",
       "      <th>Votes</th>\n",
       "      <th>Has_Table_booking_Encoded</th>\n",
       "      <th>Has_Online_delivery_Encoded</th>\n",
       "      <th>Is_delivering_now_Encoded</th>\n",
       "      <th>Switch_to_order_menu_Encoded</th>\n",
       "      <th>Country_Code_Encoded</th>\n",
       "    </tr>\n",
       "  </thead>\n",
       "  <tbody>\n",
       "    <tr>\n",
       "      <th>0</th>\n",
       "      <td>6317637</td>\n",
       "      <td>Le Petit Souffle</td>\n",
       "      <td>162</td>\n",
       "      <td>Makati City</td>\n",
       "      <td>Third Floor, Century City Mall, Kalayaan Avenu...</td>\n",
       "      <td>Century City Mall, Poblacion, Makati City</td>\n",
       "      <td>Century City Mall, Poblacion, Makati City, Mak...</td>\n",
       "      <td>121.027535</td>\n",
       "      <td>14.565443</td>\n",
       "      <td>French, Japanese, Desserts</td>\n",
       "      <td>...</td>\n",
       "      <td>3</td>\n",
       "      <td>4.8</td>\n",
       "      <td>Dark Green</td>\n",
       "      <td>Excellent</td>\n",
       "      <td>314</td>\n",
       "      <td>1</td>\n",
       "      <td>0</td>\n",
       "      <td>0</td>\n",
       "      <td>0</td>\n",
       "      <td>Philippines</td>\n",
       "    </tr>\n",
       "    <tr>\n",
       "      <th>1</th>\n",
       "      <td>6304287</td>\n",
       "      <td>Izakaya Kikufuji</td>\n",
       "      <td>162</td>\n",
       "      <td>Makati City</td>\n",
       "      <td>Little Tokyo, 2277 Chino Roces Avenue, Legaspi...</td>\n",
       "      <td>Little Tokyo, Legaspi Village, Makati City</td>\n",
       "      <td>Little Tokyo, Legaspi Village, Makati City, Ma...</td>\n",
       "      <td>121.014101</td>\n",
       "      <td>14.553708</td>\n",
       "      <td>Japanese</td>\n",
       "      <td>...</td>\n",
       "      <td>3</td>\n",
       "      <td>4.5</td>\n",
       "      <td>Dark Green</td>\n",
       "      <td>Excellent</td>\n",
       "      <td>591</td>\n",
       "      <td>1</td>\n",
       "      <td>0</td>\n",
       "      <td>0</td>\n",
       "      <td>0</td>\n",
       "      <td>Philippines</td>\n",
       "    </tr>\n",
       "    <tr>\n",
       "      <th>2</th>\n",
       "      <td>6300002</td>\n",
       "      <td>Heat - Edsa Shangri-La</td>\n",
       "      <td>162</td>\n",
       "      <td>Mandaluyong City</td>\n",
       "      <td>Edsa Shangri-La, 1 Garden Way, Ortigas, Mandal...</td>\n",
       "      <td>Edsa Shangri-La, Ortigas, Mandaluyong City</td>\n",
       "      <td>Edsa Shangri-La, Ortigas, Mandaluyong City, Ma...</td>\n",
       "      <td>121.056831</td>\n",
       "      <td>14.581404</td>\n",
       "      <td>Seafood, Asian, Filipino, Indian</td>\n",
       "      <td>...</td>\n",
       "      <td>4</td>\n",
       "      <td>4.4</td>\n",
       "      <td>Green</td>\n",
       "      <td>Very Good</td>\n",
       "      <td>270</td>\n",
       "      <td>1</td>\n",
       "      <td>0</td>\n",
       "      <td>0</td>\n",
       "      <td>0</td>\n",
       "      <td>Philippines</td>\n",
       "    </tr>\n",
       "    <tr>\n",
       "      <th>3</th>\n",
       "      <td>6318506</td>\n",
       "      <td>Ooma</td>\n",
       "      <td>162</td>\n",
       "      <td>Mandaluyong City</td>\n",
       "      <td>Third Floor, Mega Fashion Hall, SM Megamall, O...</td>\n",
       "      <td>SM Megamall, Ortigas, Mandaluyong City</td>\n",
       "      <td>SM Megamall, Ortigas, Mandaluyong City, Mandal...</td>\n",
       "      <td>121.056475</td>\n",
       "      <td>14.585318</td>\n",
       "      <td>Japanese, Sushi</td>\n",
       "      <td>...</td>\n",
       "      <td>4</td>\n",
       "      <td>4.9</td>\n",
       "      <td>Dark Green</td>\n",
       "      <td>Excellent</td>\n",
       "      <td>365</td>\n",
       "      <td>0</td>\n",
       "      <td>0</td>\n",
       "      <td>0</td>\n",
       "      <td>0</td>\n",
       "      <td>Philippines</td>\n",
       "    </tr>\n",
       "    <tr>\n",
       "      <th>4</th>\n",
       "      <td>6314302</td>\n",
       "      <td>Sambo Kojin</td>\n",
       "      <td>162</td>\n",
       "      <td>Mandaluyong City</td>\n",
       "      <td>Third Floor, Mega Atrium, SM Megamall, Ortigas...</td>\n",
       "      <td>SM Megamall, Ortigas, Mandaluyong City</td>\n",
       "      <td>SM Megamall, Ortigas, Mandaluyong City, Mandal...</td>\n",
       "      <td>121.057508</td>\n",
       "      <td>14.584450</td>\n",
       "      <td>Japanese, Korean</td>\n",
       "      <td>...</td>\n",
       "      <td>4</td>\n",
       "      <td>4.8</td>\n",
       "      <td>Dark Green</td>\n",
       "      <td>Excellent</td>\n",
       "      <td>229</td>\n",
       "      <td>1</td>\n",
       "      <td>0</td>\n",
       "      <td>0</td>\n",
       "      <td>0</td>\n",
       "      <td>Philippines</td>\n",
       "    </tr>\n",
       "  </tbody>\n",
       "</table>\n",
       "<p>5 rows × 26 columns</p>\n",
       "</div>"
      ],
      "text/plain": [
       "   Restaurant ID         Restaurant Name  Country Code              City  \\\n",
       "0        6317637        Le Petit Souffle           162       Makati City   \n",
       "1        6304287        Izakaya Kikufuji           162       Makati City   \n",
       "2        6300002  Heat - Edsa Shangri-La           162  Mandaluyong City   \n",
       "3        6318506                    Ooma           162  Mandaluyong City   \n",
       "4        6314302             Sambo Kojin           162  Mandaluyong City   \n",
       "\n",
       "                                             Address  \\\n",
       "0  Third Floor, Century City Mall, Kalayaan Avenu...   \n",
       "1  Little Tokyo, 2277 Chino Roces Avenue, Legaspi...   \n",
       "2  Edsa Shangri-La, 1 Garden Way, Ortigas, Mandal...   \n",
       "3  Third Floor, Mega Fashion Hall, SM Megamall, O...   \n",
       "4  Third Floor, Mega Atrium, SM Megamall, Ortigas...   \n",
       "\n",
       "                                     Locality  \\\n",
       "0   Century City Mall, Poblacion, Makati City   \n",
       "1  Little Tokyo, Legaspi Village, Makati City   \n",
       "2  Edsa Shangri-La, Ortigas, Mandaluyong City   \n",
       "3      SM Megamall, Ortigas, Mandaluyong City   \n",
       "4      SM Megamall, Ortigas, Mandaluyong City   \n",
       "\n",
       "                                    Locality Verbose   Longitude   Latitude  \\\n",
       "0  Century City Mall, Poblacion, Makati City, Mak...  121.027535  14.565443   \n",
       "1  Little Tokyo, Legaspi Village, Makati City, Ma...  121.014101  14.553708   \n",
       "2  Edsa Shangri-La, Ortigas, Mandaluyong City, Ma...  121.056831  14.581404   \n",
       "3  SM Megamall, Ortigas, Mandaluyong City, Mandal...  121.056475  14.585318   \n",
       "4  SM Megamall, Ortigas, Mandaluyong City, Mandal...  121.057508  14.584450   \n",
       "\n",
       "                           Cuisines  ...  Price range Aggregate rating  \\\n",
       "0        French, Japanese, Desserts  ...            3              4.8   \n",
       "1                          Japanese  ...            3              4.5   \n",
       "2  Seafood, Asian, Filipino, Indian  ...            4              4.4   \n",
       "3                   Japanese, Sushi  ...            4              4.9   \n",
       "4                  Japanese, Korean  ...            4              4.8   \n",
       "\n",
       "  Rating color Rating text Votes Has_Table_booking_Encoded  \\\n",
       "0   Dark Green   Excellent   314                         1   \n",
       "1   Dark Green   Excellent   591                         1   \n",
       "2        Green   Very Good   270                         1   \n",
       "3   Dark Green   Excellent   365                         0   \n",
       "4   Dark Green   Excellent   229                         1   \n",
       "\n",
       "   Has_Online_delivery_Encoded  Is_delivering_now_Encoded  \\\n",
       "0                            0                          0   \n",
       "1                            0                          0   \n",
       "2                            0                          0   \n",
       "3                            0                          0   \n",
       "4                            0                          0   \n",
       "\n",
       "  Switch_to_order_menu_Encoded Country_Code_Encoded  \n",
       "0                            0          Philippines  \n",
       "1                            0          Philippines  \n",
       "2                            0          Philippines  \n",
       "3                            0          Philippines  \n",
       "4                            0          Philippines  \n",
       "\n",
       "[5 rows x 26 columns]"
      ]
     },
     "execution_count": 42,
     "metadata": {},
     "output_type": "execute_result"
    }
   ],
   "source": [
    "country_code={\n",
    "                  1:'India',\n",
    "                  215:'England',\n",
    "                216:'New York',\n",
    "                  189:'South Africa',\n",
    "                  214:'United Arab Emirates',\n",
    "                  30:'Brazil',\n",
    "                  148:'New Zealand',\n",
    "                  208:'Turkey',\n",
    "                  14:'Australia',\n",
    "                  162:'Philippines',\n",
    "                  94:'Indonesia',\n",
    "                  191:'Sri Lanka',\n",
    "                  166:'Qatar',\n",
    "                  184:'Singapore',\n",
    "                  37:'Canada'\n",
    "                  \n",
    "              }\n",
    "\n",
    "\n",
    "data['Country_Code_Encoded']=data['Country Code'].replace(country_code)\n",
    "data.head(5)        "
   ]
  },
  {
   "cell_type": "code",
   "execution_count": 43,
   "id": "f6ab4dbd",
   "metadata": {},
   "outputs": [
    {
     "data": {
      "image/png": "[encoded data removed]",
      "text/plain": [
       "<Figure size 576x360 with 1 Axes>"
      ]
     },
     "metadata": {
      "needs_background": "light"
     },
     "output_type": "display_data"
    }
   ],
   "source": [
    "plt.figure(figsize=(8,5))\n",
    "data['Country_Code_Encoded'].value_counts().plot(kind='bar')\n",
    "plt.show()"
   ]
  },
  {
   "cell_type": "code",
   "execution_count": 44,
   "id": "5c6eb395",
   "metadata": {},
   "outputs": [
    {
     "name": "stdout",
     "output_type": "stream",
     "text": [
      "Observation: We can clearly observe that India and New York are top-2 country where the branches of restaurants are maximum\n"
     ]
    }
   ],
   "source": [
    "print('Observation: We can clearly observe that India and New York are top-2 country where the branches of restaurants are maximum')"
   ]
  },
  {
   "cell_type": "code",
   "execution_count": 45,
   "id": "0ab64182",
   "metadata": {},
   "outputs": [],
   "source": [
    "India_city_rest=data[data['Country_Code_Encoded']=='India']\n",
    "New_York_city_rest=data[data['Country_Code_Encoded']=='New York']\n",
    "England_city_rest=data[data['Country_Code_Encoded']=='England']\n",
    "Brazil_city_rest=data[data['Country_Code_Encoded']=='Brazil']\n",
    "United_Arab_Emirates_city_rest=data[data['Country_Code_Encoded']=='United Arab Emirates']\n",
    "South_Africa_city_rest=data[data['Country_Code_Encoded']=='South Africa']\n",
    "New_Zealand_city_rest=data[data['Country_Code_Encoded']=='New Zealand']\n",
    "Turkey_city_rest=data[data['Country_Code_Encoded']=='Turkey']\n",
    "Australia_city_rest=data[data['Country_Code_Encoded']=='Australia']\n",
    "Philippines_city_rest=data[data['Country_Code_Encoded']=='Philippines']\n",
    "Indonesia_city_rest=data[data['Country_Code_Encoded']=='Indonesia']\n",
    "Singapore_city_rest=data[data['Country_Code_Encoded']=='Singapore']\n",
    "Qatar_city_rest=data[data['Country_Code_Encoded']=='Qatar']\n",
    "Srilanka_city_rest=data[data['Country_Code_Encoded']=='Sri Lanka']\n",
    "Canada_city_rest=data[data['Country_Code_Encoded']=='Canada']"
   ]
  },
  {
   "cell_type": "markdown",
   "id": "15127b84",
   "metadata": {},
   "source": [
    "# We Will Plot Top-3 City from Each Country which having the Maximum Branches of Restaurants"
   ]
  },
  {
   "cell_type": "code",
   "execution_count": 46,
   "id": "ff39e9aa",
   "metadata": {},
   "outputs": [
    {
     "data": {
      "image/png": "[encoded data removed]",
      "text/plain": [
       "<Figure size 720x576 with 1 Axes>"
      ]
     },
     "metadata": {},
     "output_type": "display_data"
    }
   ],
   "source": [
    "plt.figure(figsize=(10,8))\n",
    "India_city_rest['City'].value_counts()[:3].plot(kind='pie',autopct='%.2f')\n",
    "plt.title('Top-3 City in India which having the Maximum Branches of Restaurants')\n",
    "plt.show()"
   ]
  },
  {
   "cell_type": "code",
   "execution_count": 47,
   "id": "937af313",
   "metadata": {},
   "outputs": [
    {
     "data": {
      "image/png": "[encoded data removed]",
      "text/plain": [
       "<Figure size 720x576 with 1 Axes>"
      ]
     },
     "metadata": {},
     "output_type": "display_data"
    }
   ],
   "source": [
    "plt.figure(figsize=(10,8))\n",
    "New_York_city_rest['City'].value_counts()[:3].plot(kind='pie',autopct='%.2f')\n",
    "plt.title('Top-3 City in New York which having the Maximum Branches of Restaurants')\n",
    "plt.show()"
   ]
  },
  {
   "cell_type": "code",
   "execution_count": 48,
   "id": "d90adeb0",
   "metadata": {},
   "outputs": [
    {
     "data": {
      "image/png": "[encoded data removed]",
      "text/plain": [
       "<Figure size 720x576 with 1 Axes>"
      ]
     },
     "metadata": {},
     "output_type": "display_data"
    }
   ],
   "source": [
    "plt.figure(figsize=(10,8))\n",
    "England_city_rest['City'].value_counts()[:3].plot(kind='pie',autopct='%.2f')\n",
    "plt.title('Top-3 City in England which having the Maximum Branches of Restaurants')\n",
    "plt.ylabel('City')\n",
    "plt.show()"
   ]
  },
  {
   "cell_type": "code",
   "execution_count": 49,
   "id": "c69fdeb0",
   "metadata": {},
   "outputs": [
    {
     "data": {
      "image/png": "[encoded data removed]",
      "text/plain": [
       "<Figure size 720x576 with 1 Axes>"
      ]
     },
     "metadata": {},
     "output_type": "display_data"
    }
   ],
   "source": [
    "plt.figure(figsize=(10,8))\n",
    "Brazil_city_rest['City'].value_counts()[:3].plot(kind='pie',autopct='%.2f')\n",
    "plt.title('Top-3 City in Brazil which having the Maximum Branches of Restaurants')\n",
    "plt.show()"
   ]
  },
  {
   "cell_type": "code",
   "execution_count": 50,
   "id": "00c56975",
   "metadata": {},
   "outputs": [
    {
     "data": {
      "image/png": "[encoded data removed]",
      "text/plain": [
       "<Figure size 720x576 with 1 Axes>"
      ]
     },
     "metadata": {},
     "output_type": "display_data"
    }
   ],
   "source": [
    "plt.figure(figsize=(10,8))\n",
    "United_Arab_Emirates_city_rest['City'].value_counts()[:3].plot(kind='pie',autopct='%.2f')\n",
    "plt.title('Top-3 City in United Arab Emirates which having the Maximum Branches of Restaurants')\n",
    "plt.show()"
   ]
  },
  {
   "cell_type": "code",
   "execution_count": 51,
   "id": "501eb9bf",
   "metadata": {},
   "outputs": [
    {
     "data": {
      "image/png": "[encoded data removed]",
      "text/plain": [
       "<Figure size 720x576 with 1 Axes>"
      ]
     },
     "metadata": {},
     "output_type": "display_data"
    }
   ],
   "source": [
    "plt.figure(figsize=(10,8))\n",
    "South_Africa_city_rest['City'].value_counts()[:3].plot(kind='pie',autopct='%.2f')\n",
    "plt.title('Top-3 City in South Africa which having the Maximum Branches of Restaurants')\n",
    "plt.show()"
   ]
  },
  {
   "cell_type": "code",
   "execution_count": 52,
   "id": "6cbfa99e",
   "metadata": {},
   "outputs": [
    {
     "data": {
      "image/png": "[encoded data removed]",
      "text/plain": [
       "<Figure size 720x576 with 1 Axes>"
      ]
     },
     "metadata": {},
     "output_type": "display_data"
    }
   ],
   "source": [
    "plt.figure(figsize=(10,8))\n",
    "New_Zealand_city_rest['City'].value_counts()[:3].plot(kind='pie',autopct='%.2f')\n",
    "plt.title('Top-3 City in New Zealand which having the Maximum Branches of Restaurants')\n",
    "plt.show()"
   ]
  },
  {
   "cell_type": "code",
   "execution_count": 53,
   "id": "d48f93a1",
   "metadata": {},
   "outputs": [
    {
     "data": {
      "image/png": "[encoded data removed]",
      "text/plain": [
       "<Figure size 720x576 with 1 Axes>"
      ]
     },
     "metadata": {},
     "output_type": "display_data"
    }
   ],
   "source": [
    "plt.figure(figsize=(10,8))\n",
    "Turkey_city_rest['City'].value_counts()[:3].plot(kind='pie',autopct='%.2f')\n",
    "plt.title('Top-3 City in Turkey which having the Maximum Branches of Restaurants')\n",
    "plt.show()"
   ]
  },
  {
   "cell_type": "code",
   "execution_count": 54,
   "id": "0899e8d6",
   "metadata": {},
   "outputs": [
    {
     "data": {
      "image/png": "[encoded data removed]",
      "text/plain": [
       "<Figure size 720x576 with 1 Axes>"
      ]
     },
     "metadata": {},
     "output_type": "display_data"
    }
   ],
   "source": [
    "plt.figure(figsize=(10,8))\n",
    "Australia_city_rest['City'].value_counts()[:3].plot(kind='pie',autopct='%.2f')\n",
    "plt.title('Top-3 City in Australia which having the Maximum Branches of Restaurants')\n",
    "plt.show()"
   ]
  },
  {
   "cell_type": "code",
   "execution_count": 55,
   "id": "e8eb8823",
   "metadata": {},
   "outputs": [
    {
     "data": {
      "image/png": "[encoded data removed]",
      "text/plain": [
       "<Figure size 720x576 with 1 Axes>"
      ]
     },
     "metadata": {},
     "output_type": "display_data"
    }
   ],
   "source": [
    "plt.figure(figsize=(10,8))\n",
    "Philippines_city_rest['City'].value_counts()[:3].plot(kind='pie',autopct='%.2f')\n",
    "plt.title('Top-3 City in Philippines which having the Maximum Branches of Restaurants')\n",
    "plt.show()"
   ]
  },
  {
   "cell_type": "code",
   "execution_count": 56,
   "id": "6a922669",
   "metadata": {},
   "outputs": [
    {
     "data": {
      "image/png": "[encoded data removed]",
      "text/plain": [
       "<Figure size 720x576 with 1 Axes>"
      ]
     },
     "metadata": {},
     "output_type": "display_data"
    }
   ],
   "source": [
    "plt.figure(figsize=(10,8))\n",
    "Indonesia_city_rest['City'].value_counts()[:3].plot(kind='pie',autopct='%.2f')\n",
    "plt.title('Top-3 City in Indonesia which having the Maximum Branches of Restaurants')\n",
    "plt.show()"
   ]
  },
  {
   "cell_type": "code",
   "execution_count": 57,
   "id": "562407c8",
   "metadata": {},
   "outputs": [
    {
     "data": {
      "image/png": "[encoded data removed]",
      "text/plain": [
       "<Figure size 720x576 with 1 Axes>"
      ]
     },
     "metadata": {},
     "output_type": "display_data"
    }
   ],
   "source": [
    "plt.figure(figsize=(10,8))\n",
    "Singapore_city_rest['City'].value_counts()[:3].plot(kind='pie',autopct='%.2f')\n",
    "plt.title('Top-3 City in Singapore which having the Maximum Branches of Restaurants')\n",
    "plt.show()"
   ]
  },
  {
   "cell_type": "code",
   "execution_count": 58,
   "id": "fe1f0b9e",
   "metadata": {},
   "outputs": [
    {
     "data": {
      "image/png": "[encoded data removed]",
      "text/plain": [
       "<Figure size 720x576 with 1 Axes>"
      ]
     },
     "metadata": {},
     "output_type": "display_data"
    }
   ],
   "source": [
    "plt.figure(figsize=(10,8))\n",
    "Qatar_city_rest['City'].value_counts()[:3].plot(kind='pie',autopct='%.2f')\n",
    "plt.title('Top-3 City in Qatar which having the Maximum Branches of Restaurants')\n",
    "plt.show()"
   ]
  },
  {
   "cell_type": "code",
   "execution_count": 59,
   "id": "21ecbda0",
   "metadata": {},
   "outputs": [
    {
     "data": {
      "image/png": "[encoded data removed]",
      "text/plain": [
       "<Figure size 720x576 with 1 Axes>"
      ]
     },
     "metadata": {},
     "output_type": "display_data"
    }
   ],
   "source": [
    "plt.figure(figsize=(10,8))\n",
    "Canada_city_rest['City'].value_counts()[:3].plot(kind='pie',autopct='%.2f')\n",
    "plt.title('Top-3 City in Canada which having the Maximum Branches of Restaurants')\n",
    "plt.show()"
   ]
  },
  {
   "cell_type": "code",
   "execution_count": 60,
   "id": "d06a3e97",
   "metadata": {},
   "outputs": [
    {
     "data": {
      "text/plain": [
       "North Indian    936\n",
       "Name: Cuisines, dtype: int64"
      ]
     },
     "execution_count": 60,
     "metadata": {},
     "output_type": "execute_result"
    }
   ],
   "source": [
    "cat_cols['Cuisines'].value_counts()[:1]"
   ]
  },
  {
   "cell_type": "code",
   "execution_count": 61,
   "id": "63a6465b",
   "metadata": {},
   "outputs": [
    {
     "name": "stdout",
     "output_type": "stream",
     "text": [
      "Observation: The maximun Cuisines the restaurant has served if North Indian\n"
     ]
    }
   ],
   "source": [
    "print('Observation: The maximun Cuisines the restaurant has served if North Indian')"
   ]
  },
  {
   "cell_type": "markdown",
   "id": "c5ce5b77",
   "metadata": {},
   "source": [
    "# Things to Perform:\n",
    "#### Geospatial Analysis Visualize the locations of restaurants on a map using latitude and longitude information. \n",
    "#### Analyze the distribution of restaurants across different cities or countries.\n",
    "#### Determine if there is any correlation between the restaurant's location and its rating."
   ]
  },
  {
   "cell_type": "code",
   "execution_count": 62,
   "id": "d67ec5dc",
   "metadata": {},
   "outputs": [
    {
     "name": "stdout",
     "output_type": "stream",
     "text": [
      "Requirement already satisfied: folium in c:\\users\\pc\\anaconda3\\lib\\site-packages (0.16.0)\n",
      "Requirement already satisfied: pandas in c:\\users\\pc\\anaconda3\\lib\\site-packages (1.3.4)\n",
      "Requirement already satisfied: jinja2>=2.9 in c:\\users\\pc\\anaconda3\\lib\\site-packages (from folium) (3.1.4)\n",
      "Requirement already satisfied: branca>=0.6.0 in c:\\users\\pc\\anaconda3\\lib\\site-packages (from folium) (0.7.2)\n",
      "Requirement already satisfied: requests in c:\\users\\pc\\anaconda3\\lib\\site-packages (from folium) (2.26.0)\n",
      "Requirement already satisfied: numpy in c:\\users\\pc\\anaconda3\\lib\\site-packages (from folium) (1.20.3)\n",
      "Requirement already satisfied: xyzservices in c:\\users\\pc\\anaconda3\\lib\\site-packages (from folium) (2024.4.0)\n",
      "Requirement already satisfied: pytz>=2017.3 in c:\\users\\pc\\anaconda3\\lib\\site-packages (from pandas) (2021.3)\n",
      "Requirement already satisfied: python-dateutil>=2.7.3 in c:\\users\\pc\\anaconda3\\lib\\site-packages (from pandas) (2.8.2)\n",
      "Requirement already satisfied: MarkupSafe>=2.0 in c:\\users\\pc\\anaconda3\\lib\\site-packages (from jinja2>=2.9->folium) (2.1.5)\n",
      "Requirement already satisfied: six>=1.5 in c:\\users\\pc\\anaconda3\\lib\\site-packages (from python-dateutil>=2.7.3->pandas) (1.16.0)\n",
      "Requirement already satisfied: urllib3<1.27,>=1.21.1 in c:\\users\\pc\\anaconda3\\lib\\site-packages (from requests->folium) (1.26.7)\n",
      "Requirement already satisfied: certifi>=2017.4.17 in c:\\users\\pc\\anaconda3\\lib\\site-packages (from requests->folium) (2021.10.8)\n",
      "Requirement already satisfied: idna<4,>=2.5 in c:\\users\\pc\\anaconda3\\lib\\site-packages (from requests->folium) (3.2)\n",
      "Requirement already satisfied: charset-normalizer~=2.0.0 in c:\\users\\pc\\anaconda3\\lib\\site-packages (from requests->folium) (2.0.4)\n",
      "Note: you may need to restart the kernel to use updated packages.\n"
     ]
    }
   ],
   "source": [
    "pip install folium pandas"
   ]
  },
  {
   "cell_type": "code",
   "execution_count": 63,
   "id": "1c1cb856",
   "metadata": {},
   "outputs": [
    {
     "data": {
      "text/html": [
       "<div>\n",
       "<style scoped>\n",
       "    .dataframe tbody tr th:only-of-type {\n",
       "        vertical-align: middle;\n",
       "    }\n",
       "\n",
       "    .dataframe tbody tr th {\n",
       "        vertical-align: top;\n",
       "    }\n",
       "\n",
       "    .dataframe thead th {\n",
       "        text-align: right;\n",
       "    }\n",
       "</style>\n",
       "<table border=\"1\" class=\"dataframe\">\n",
       "  <thead>\n",
       "    <tr style=\"text-align: right;\">\n",
       "      <th></th>\n",
       "      <th>Restaurant ID</th>\n",
       "      <th>Restaurant Name</th>\n",
       "      <th>Country Code</th>\n",
       "      <th>City</th>\n",
       "      <th>Address</th>\n",
       "      <th>Locality</th>\n",
       "      <th>Locality Verbose</th>\n",
       "      <th>Longitude</th>\n",
       "      <th>Latitude</th>\n",
       "      <th>Cuisines</th>\n",
       "      <th>...</th>\n",
       "      <th>Price range</th>\n",
       "      <th>Aggregate rating</th>\n",
       "      <th>Rating color</th>\n",
       "      <th>Rating text</th>\n",
       "      <th>Votes</th>\n",
       "      <th>Has_Table_booking_Encoded</th>\n",
       "      <th>Has_Online_delivery_Encoded</th>\n",
       "      <th>Is_delivering_now_Encoded</th>\n",
       "      <th>Switch_to_order_menu_Encoded</th>\n",
       "      <th>Country_Code_Encoded</th>\n",
       "    </tr>\n",
       "  </thead>\n",
       "  <tbody>\n",
       "    <tr>\n",
       "      <th>0</th>\n",
       "      <td>6317637</td>\n",
       "      <td>Le Petit Souffle</td>\n",
       "      <td>162</td>\n",
       "      <td>Makati City</td>\n",
       "      <td>Third Floor, Century City Mall, Kalayaan Avenu...</td>\n",
       "      <td>Century City Mall, Poblacion, Makati City</td>\n",
       "      <td>Century City Mall, Poblacion, Makati City, Mak...</td>\n",
       "      <td>121.027535</td>\n",
       "      <td>14.565443</td>\n",
       "      <td>French, Japanese, Desserts</td>\n",
       "      <td>...</td>\n",
       "      <td>3</td>\n",
       "      <td>4.8</td>\n",
       "      <td>Dark Green</td>\n",
       "      <td>Excellent</td>\n",
       "      <td>314</td>\n",
       "      <td>1</td>\n",
       "      <td>0</td>\n",
       "      <td>0</td>\n",
       "      <td>0</td>\n",
       "      <td>Philippines</td>\n",
       "    </tr>\n",
       "    <tr>\n",
       "      <th>1</th>\n",
       "      <td>6304287</td>\n",
       "      <td>Izakaya Kikufuji</td>\n",
       "      <td>162</td>\n",
       "      <td>Makati City</td>\n",
       "      <td>Little Tokyo, 2277 Chino Roces Avenue, Legaspi...</td>\n",
       "      <td>Little Tokyo, Legaspi Village, Makati City</td>\n",
       "      <td>Little Tokyo, Legaspi Village, Makati City, Ma...</td>\n",
       "      <td>121.014101</td>\n",
       "      <td>14.553708</td>\n",
       "      <td>Japanese</td>\n",
       "      <td>...</td>\n",
       "      <td>3</td>\n",
       "      <td>4.5</td>\n",
       "      <td>Dark Green</td>\n",
       "      <td>Excellent</td>\n",
       "      <td>591</td>\n",
       "      <td>1</td>\n",
       "      <td>0</td>\n",
       "      <td>0</td>\n",
       "      <td>0</td>\n",
       "      <td>Philippines</td>\n",
       "    </tr>\n",
       "  </tbody>\n",
       "</table>\n",
       "<p>2 rows × 26 columns</p>\n",
       "</div>"
      ],
      "text/plain": [
       "   Restaurant ID   Restaurant Name  Country Code         City  \\\n",
       "0        6317637  Le Petit Souffle           162  Makati City   \n",
       "1        6304287  Izakaya Kikufuji           162  Makati City   \n",
       "\n",
       "                                             Address  \\\n",
       "0  Third Floor, Century City Mall, Kalayaan Avenu...   \n",
       "1  Little Tokyo, 2277 Chino Roces Avenue, Legaspi...   \n",
       "\n",
       "                                     Locality  \\\n",
       "0   Century City Mall, Poblacion, Makati City   \n",
       "1  Little Tokyo, Legaspi Village, Makati City   \n",
       "\n",
       "                                    Locality Verbose   Longitude   Latitude  \\\n",
       "0  Century City Mall, Poblacion, Makati City, Mak...  121.027535  14.565443   \n",
       "1  Little Tokyo, Legaspi Village, Makati City, Ma...  121.014101  14.553708   \n",
       "\n",
       "                     Cuisines  ...  Price range Aggregate rating Rating color  \\\n",
       "0  French, Japanese, Desserts  ...            3              4.8   Dark Green   \n",
       "1                    Japanese  ...            3              4.5   Dark Green   \n",
       "\n",
       "  Rating text Votes Has_Table_booking_Encoded  Has_Online_delivery_Encoded  \\\n",
       "0   Excellent   314                         1                            0   \n",
       "1   Excellent   591                         1                            0   \n",
       "\n",
       "   Is_delivering_now_Encoded Switch_to_order_menu_Encoded Country_Code_Encoded  \n",
       "0                          0                            0          Philippines  \n",
       "1                          0                            0          Philippines  \n",
       "\n",
       "[2 rows x 26 columns]"
      ]
     },
     "execution_count": 63,
     "metadata": {},
     "output_type": "execute_result"
    }
   ],
   "source": [
    "data.head(2)"
   ]
  },
  {
   "cell_type": "code",
   "execution_count": 69,
   "id": "836d3aaf",
   "metadata": {},
   "outputs": [],
   "source": [
    "lat_long_India=data[data['Country_Code_Encoded']=='India']"
   ]
  },
  {
   "cell_type": "code",
   "execution_count": 70,
   "id": "0d7d48e5",
   "metadata": {},
   "outputs": [],
   "source": [
    "lat_long_India=data[data['Country_Code_Encoded']=='India']\n",
    "lat_long_New_York=data[data['Country_Code_Encoded']=='New York']\n",
    "lat_long_England=data[data['Country_Code_Encoded']=='England']\n",
    "lat_long_Brazil=data[data['Country_Code_Encoded']=='Brazil']\n",
    "lat_long_United_Arab_Emirates=data[data['Country_Code_Encoded']=='United Arab Emirates']\n",
    "lat_long_South_Africa=data[data['Country_Code_Encoded']=='South Africa']\n",
    "lat_long_New_Zealand=data[data['Country_Code_Encoded']=='New Zealand']\n",
    "lat_long_Turkey=data[data['Country_Code_Encoded']=='Turkey']\n",
    "lat_long_Australia=data[data['Country_Code_Encoded']=='Australia']\n",
    "lat_long_Philippines=data[data['Country_Code_Encoded']=='Philippines']\n",
    "lat_long_Indonesia=data[data['Country_Code_Encoded']=='Indonesia']\n",
    "lat_long_Singapore=data[data['Country_Code_Encoded']=='Singapore']\n",
    "lat_long_Qatar=data[data['Country_Code_Encoded']=='Qatar']\n",
    "lat_long_Sri_lanka=data[data['Country_Code_Encoded']=='Sri Lanka']\n",
    "lat_long_Canada=data[data['Country_Code_Encoded']=='Canada']"
   ]
  },
  {
   "cell_type": "code",
   "execution_count": 401,
   "id": "4705573b",
   "metadata": {},
   "outputs": [
    {
     "data": {
      "text/html": [
       "\n",
       "        <iframe\n",
       "            width=\"700\"\n",
       "            height=\"500\"\n",
       "            src=\"restaurant_map.html\"\n",
       "            frameborder=\"0\"\n",
       "            allowfullscreen\n",
       "            \n",
       "        ></iframe>\n",
       "        "
      ],
      "text/plain": [
       "<IPython.lib.display.IFrame at 0x1947d0b9220>"
      ]
     },
     "execution_count": 401,
     "metadata": {},
     "output_type": "execute_result"
    }
   ],
   "source": [
    "import pandas as pd\n",
    "import folium\n",
    "from IPython.display import IFrame\n",
    "\n",
    "data=pd.DataFrame(data)\n",
    "\n",
    "# Create a map centered around an average location\n",
    "map_center = [lat_long_India['Latitude'].mean(), lat_long_India['Longitude'].mean()]\n",
    "restaurant_map = folium.Map(location=map_center, zoom_start=5)\n",
    "\n",
    "# Add markers to the map\n",
    "for _, row in lat_long_India.iterrows():\n",
    "    folium.Marker(\n",
    "        location=[row['Latitude'], row['Longitude']],\n",
    "        popup=f\"Restaurant: {row['Restaurant Name']}\"\n",
    "    ).add_to(restaurant_map)\n",
    "\n",
    "# Save the map to an HTML file\n",
    "restaurant_map.save('restaurant_map.html')\n",
    "\n",
    "# Display the map in a Jupyter notebook\n",
    "IFrame('restaurant_map.html', width=700, height=500)\n"
   ]
  },
  {
   "cell_type": "code",
   "execution_count": 402,
   "id": "40a1e2c4",
   "metadata": {},
   "outputs": [
    {
     "data": {
      "text/html": [
       "\n",
       "        <iframe\n",
       "            width=\"700\"\n",
       "            height=\"500\"\n",
       "            src=\"restaurant_map.html\"\n",
       "            frameborder=\"0\"\n",
       "            allowfullscreen\n",
       "            \n",
       "        ></iframe>\n",
       "        "
      ],
      "text/plain": [
       "<IPython.lib.display.IFrame at 0x19403462400>"
      ]
     },
     "execution_count": 402,
     "metadata": {},
     "output_type": "execute_result"
    }
   ],
   "source": [
    "import pandas as pd\n",
    "import folium\n",
    "from IPython.display import IFrame\n",
    "\n",
    "data=pd.DataFrame(data)\n",
    "\n",
    "# Create a map centered around an average location\n",
    "map_center = [lat_long_England['Latitude'].mean(), lat_long_England['Longitude'].mean()]\n",
    "restaurant_map = folium.Map(location=map_center, zoom_start=5)\n",
    "\n",
    "# Add markers to the map\n",
    "for _, row in lat_long_England.iterrows():\n",
    "    folium.Marker(\n",
    "        location=[row['Latitude'], row['Longitude']],\n",
    "        popup=f\"Restaurant: {row['Restaurant Name']}\"\n",
    "    ).add_to(restaurant_map)\n",
    "\n",
    "# Save the map to an HTML file\n",
    "restaurant_map.save('restaurant_map.html')\n",
    "\n",
    "# Display the map in a Jupyter notebook\n",
    "IFrame('restaurant_map.html', width=700, height=500)\n"
   ]
  },
  {
   "cell_type": "code",
   "execution_count": null,
   "id": "e6a46d4b",
   "metadata": {},
   "outputs": [],
   "source": [
    "Determine if there is any correlation between the restaurant's location and its rating"
   ]
  },
  {
   "cell_type": "code",
   "execution_count": 76,
   "id": "80f51e51",
   "metadata": {},
   "outputs": [],
   "source": [
    "cov=data[['Locality Verbose','Aggregate rating']]"
   ]
  },
  {
   "cell_type": "code",
   "execution_count": 77,
   "id": "803b488d",
   "metadata": {},
   "outputs": [
    {
     "data": {
      "text/html": [
       "<div>\n",
       "<style scoped>\n",
       "    .dataframe tbody tr th:only-of-type {\n",
       "        vertical-align: middle;\n",
       "    }\n",
       "\n",
       "    .dataframe tbody tr th {\n",
       "        vertical-align: top;\n",
       "    }\n",
       "\n",
       "    .dataframe thead th {\n",
       "        text-align: right;\n",
       "    }\n",
       "</style>\n",
       "<table border=\"1\" class=\"dataframe\">\n",
       "  <thead>\n",
       "    <tr style=\"text-align: right;\">\n",
       "      <th></th>\n",
       "      <th>Aggregate rating</th>\n",
       "    </tr>\n",
       "  </thead>\n",
       "  <tbody>\n",
       "    <tr>\n",
       "      <th>Aggregate rating</th>\n",
       "      <td>1.0</td>\n",
       "    </tr>\n",
       "  </tbody>\n",
       "</table>\n",
       "</div>"
      ],
      "text/plain": [
       "                  Aggregate rating\n",
       "Aggregate rating               1.0"
      ]
     },
     "execution_count": 77,
     "metadata": {},
     "output_type": "execute_result"
    }
   ],
   "source": [
    "cov.corr()"
   ]
  },
  {
   "cell_type": "code",
   "execution_count": 80,
   "id": "ddd5d24f",
   "metadata": {},
   "outputs": [
    {
     "data": {
      "image/png": "[encoded data removed]",
      "text/plain": [
       "<Figure size 864x576 with 2 Axes>"
      ]
     },
     "metadata": {
      "needs_background": "light"
     },
     "output_type": "display_data"
    }
   ],
   "source": [
    "plt.figure(figsize=(12,8))\n",
    "sns.heatmap(data.corr(), annot=True)\n",
    "plt.show()"
   ]
  },
  {
   "cell_type": "markdown",
   "id": "e32605d7",
   "metadata": {},
   "source": [
    "# Things to Perform:\n",
    "### Table Booking and Online Delivery\n",
    "### Determine the percentage of restaurants that offer table booking and online delivery.\n",
    "### Compare the average ratings of restaurants with table booking and those without.\n",
    "### Analyze the availability of online delivery among restaurants with different price ranges."
   ]
  },
  {
   "cell_type": "code",
   "execution_count": 81,
   "id": "8385bcd9",
   "metadata": {},
   "outputs": [
    {
     "data": {
      "text/html": [
       "<div>\n",
       "<style scoped>\n",
       "    .dataframe tbody tr th:only-of-type {\n",
       "        vertical-align: middle;\n",
       "    }\n",
       "\n",
       "    .dataframe tbody tr th {\n",
       "        vertical-align: top;\n",
       "    }\n",
       "\n",
       "    .dataframe thead th {\n",
       "        text-align: right;\n",
       "    }\n",
       "</style>\n",
       "<table border=\"1\" class=\"dataframe\">\n",
       "  <thead>\n",
       "    <tr style=\"text-align: right;\">\n",
       "      <th></th>\n",
       "      <th>Restaurant ID</th>\n",
       "      <th>Restaurant Name</th>\n",
       "      <th>Country Code</th>\n",
       "      <th>City</th>\n",
       "      <th>Address</th>\n",
       "      <th>Locality</th>\n",
       "      <th>Locality Verbose</th>\n",
       "      <th>Longitude</th>\n",
       "      <th>Latitude</th>\n",
       "      <th>Cuisines</th>\n",
       "      <th>...</th>\n",
       "      <th>Price range</th>\n",
       "      <th>Aggregate rating</th>\n",
       "      <th>Rating color</th>\n",
       "      <th>Rating text</th>\n",
       "      <th>Votes</th>\n",
       "      <th>Has_Table_booking_Encoded</th>\n",
       "      <th>Has_Online_delivery_Encoded</th>\n",
       "      <th>Is_delivering_now_Encoded</th>\n",
       "      <th>Switch_to_order_menu_Encoded</th>\n",
       "      <th>Country_Code_Encoded</th>\n",
       "    </tr>\n",
       "  </thead>\n",
       "  <tbody>\n",
       "    <tr>\n",
       "      <th>0</th>\n",
       "      <td>6317637</td>\n",
       "      <td>Le Petit Souffle</td>\n",
       "      <td>162</td>\n",
       "      <td>Makati City</td>\n",
       "      <td>Third Floor, Century City Mall, Kalayaan Avenu...</td>\n",
       "      <td>Century City Mall, Poblacion, Makati City</td>\n",
       "      <td>Century City Mall, Poblacion, Makati City, Mak...</td>\n",
       "      <td>121.027535</td>\n",
       "      <td>14.565443</td>\n",
       "      <td>French, Japanese, Desserts</td>\n",
       "      <td>...</td>\n",
       "      <td>3</td>\n",
       "      <td>4.8</td>\n",
       "      <td>Dark Green</td>\n",
       "      <td>Excellent</td>\n",
       "      <td>314</td>\n",
       "      <td>1</td>\n",
       "      <td>0</td>\n",
       "      <td>0</td>\n",
       "      <td>0</td>\n",
       "      <td>Philippines</td>\n",
       "    </tr>\n",
       "    <tr>\n",
       "      <th>1</th>\n",
       "      <td>6304287</td>\n",
       "      <td>Izakaya Kikufuji</td>\n",
       "      <td>162</td>\n",
       "      <td>Makati City</td>\n",
       "      <td>Little Tokyo, 2277 Chino Roces Avenue, Legaspi...</td>\n",
       "      <td>Little Tokyo, Legaspi Village, Makati City</td>\n",
       "      <td>Little Tokyo, Legaspi Village, Makati City, Ma...</td>\n",
       "      <td>121.014101</td>\n",
       "      <td>14.553708</td>\n",
       "      <td>Japanese</td>\n",
       "      <td>...</td>\n",
       "      <td>3</td>\n",
       "      <td>4.5</td>\n",
       "      <td>Dark Green</td>\n",
       "      <td>Excellent</td>\n",
       "      <td>591</td>\n",
       "      <td>1</td>\n",
       "      <td>0</td>\n",
       "      <td>0</td>\n",
       "      <td>0</td>\n",
       "      <td>Philippines</td>\n",
       "    </tr>\n",
       "  </tbody>\n",
       "</table>\n",
       "<p>2 rows × 26 columns</p>\n",
       "</div>"
      ],
      "text/plain": [
       "   Restaurant ID   Restaurant Name  Country Code         City  \\\n",
       "0        6317637  Le Petit Souffle           162  Makati City   \n",
       "1        6304287  Izakaya Kikufuji           162  Makati City   \n",
       "\n",
       "                                             Address  \\\n",
       "0  Third Floor, Century City Mall, Kalayaan Avenu...   \n",
       "1  Little Tokyo, 2277 Chino Roces Avenue, Legaspi...   \n",
       "\n",
       "                                     Locality  \\\n",
       "0   Century City Mall, Poblacion, Makati City   \n",
       "1  Little Tokyo, Legaspi Village, Makati City   \n",
       "\n",
       "                                    Locality Verbose   Longitude   Latitude  \\\n",
       "0  Century City Mall, Poblacion, Makati City, Mak...  121.027535  14.565443   \n",
       "1  Little Tokyo, Legaspi Village, Makati City, Ma...  121.014101  14.553708   \n",
       "\n",
       "                     Cuisines  ...  Price range Aggregate rating Rating color  \\\n",
       "0  French, Japanese, Desserts  ...            3              4.8   Dark Green   \n",
       "1                    Japanese  ...            3              4.5   Dark Green   \n",
       "\n",
       "  Rating text Votes Has_Table_booking_Encoded  Has_Online_delivery_Encoded  \\\n",
       "0   Excellent   314                         1                            0   \n",
       "1   Excellent   591                         1                            0   \n",
       "\n",
       "   Is_delivering_now_Encoded Switch_to_order_menu_Encoded Country_Code_Encoded  \n",
       "0                          0                            0          Philippines  \n",
       "1                          0                            0          Philippines  \n",
       "\n",
       "[2 rows x 26 columns]"
      ]
     },
     "execution_count": 81,
     "metadata": {},
     "output_type": "execute_result"
    }
   ],
   "source": [
    "data.head(2)"
   ]
  },
  {
   "cell_type": "code",
   "execution_count": 110,
   "id": "d7107f20",
   "metadata": {},
   "outputs": [
    {
     "data": {
      "text/plain": [
       "No     8393\n",
       "Yes    1158\n",
       "Name: Has Table booking, dtype: int64"
      ]
     },
     "execution_count": 110,
     "metadata": {},
     "output_type": "execute_result"
    }
   ],
   "source": [
    "data['Has Table booking'].value_counts()"
   ]
  },
  {
   "cell_type": "code",
   "execution_count": 114,
   "id": "b8f0af20",
   "metadata": {},
   "outputs": [
    {
     "data": {
      "text/plain": [
       "12.124384881164275"
      ]
     },
     "execution_count": 114,
     "metadata": {},
     "output_type": "execute_result"
    }
   ],
   "source": [
    "(data['Has Table booking'].value_counts()[1]/len(data))*100"
   ]
  },
  {
   "cell_type": "code",
   "execution_count": 115,
   "id": "642c6f6c",
   "metadata": {},
   "outputs": [
    {
     "name": "stdout",
     "output_type": "stream",
     "text": [
      "Observation: Out of 100%, only 12% of restaurants book the table for the customers\n"
     ]
    }
   ],
   "source": [
    "print('Observation: Out of 100%, only 12% of restaurants book the table for the customers')"
   ]
  },
  {
   "cell_type": "code",
   "execution_count": 116,
   "id": "777998a3",
   "metadata": {},
   "outputs": [
    {
     "data": {
      "text/plain": [
       "87.87561511883573"
      ]
     },
     "execution_count": 116,
     "metadata": {},
     "output_type": "execute_result"
    }
   ],
   "source": [
    "(data['Has Table booking'].value_counts()[0]/len(data))*100"
   ]
  },
  {
   "cell_type": "code",
   "execution_count": 117,
   "id": "11058b36",
   "metadata": {},
   "outputs": [
    {
     "name": "stdout",
     "output_type": "stream",
     "text": [
      "Observation: Out of 100%, a majority of 87% of restaurants do not take the booking of restaurants for the customers\n"
     ]
    }
   ],
   "source": [
    "print('Observation: Out of 100%, a majority of 87% of restaurants do not take the booking of restaurants for the customers')"
   ]
  },
  {
   "cell_type": "code",
   "execution_count": 119,
   "id": "4818981f",
   "metadata": {},
   "outputs": [
    {
     "data": {
      "text/plain": [
       "No     7100\n",
       "Yes    2451\n",
       "Name: Has Online delivery, dtype: int64"
      ]
     },
     "execution_count": 119,
     "metadata": {},
     "output_type": "execute_result"
    }
   ],
   "source": [
    "data['Has Online delivery'].value_counts()"
   ]
  },
  {
   "cell_type": "code",
   "execution_count": 123,
   "id": "a05edb6e",
   "metadata": {},
   "outputs": [
    {
     "data": {
      "text/plain": [
       "74.33776567898649"
      ]
     },
     "execution_count": 123,
     "metadata": {},
     "output_type": "execute_result"
    }
   ],
   "source": [
    "(data['Has Online delivery'].value_counts()[0]/len(data))*100"
   ]
  },
  {
   "cell_type": "code",
   "execution_count": null,
   "id": "5bd14a4d",
   "metadata": {},
   "outputs": [],
   "source": [
    "print('74% of restaurants do not take the Online Delivery')"
   ]
  },
  {
   "cell_type": "code",
   "execution_count": 124,
   "id": "f7e86775",
   "metadata": {},
   "outputs": [
    {
     "data": {
      "text/plain": [
       "25.662234321013504"
      ]
     },
     "execution_count": 124,
     "metadata": {},
     "output_type": "execute_result"
    }
   ],
   "source": [
    "(data['Has Online delivery'].value_counts()[1]/len(data))*100"
   ]
  },
  {
   "cell_type": "code",
   "execution_count": 125,
   "id": "4f2877c3",
   "metadata": {},
   "outputs": [
    {
     "name": "stdout",
     "output_type": "stream",
     "text": [
      "25% of restaurants tend to have the Online Delivery\n"
     ]
    }
   ],
   "source": [
    "print('25% of restaurants tend to have the Online Delivery')"
   ]
  },
  {
   "cell_type": "markdown",
   "id": "88300ec0",
   "metadata": {},
   "source": [
    "# Determine the percentage of restaurants that offer table booking and online delivery."
   ]
  },
  {
   "cell_type": "code",
   "execution_count": 136,
   "id": "beefaf6d",
   "metadata": {},
   "outputs": [],
   "source": [
    "both_table_online=data[(data['Has_Table_booking_Encoded']==1) & (data['Has_Online_delivery_Encoded']==1)]"
   ]
  },
  {
   "cell_type": "code",
   "execution_count": 139,
   "id": "162a779e",
   "metadata": {},
   "outputs": [
    {
     "data": {
      "text/plain": [
       "India                   427\n",
       "United Arab Emirates      8\n",
       "Name: Country_Code_Encoded, dtype: int64"
      ]
     },
     "execution_count": 139,
     "metadata": {},
     "output_type": "execute_result"
    }
   ],
   "source": [
    "both_table_online['Country_Code_Encoded'].value_counts()"
   ]
  },
  {
   "cell_type": "code",
   "execution_count": 142,
   "id": "43f06d23",
   "metadata": {},
   "outputs": [
    {
     "name": "stdout",
     "output_type": "stream",
     "text": [
      "Observation: We can clealy observe there are only 2 countries that have the option of Online Delivery and Table Booking\n"
     ]
    }
   ],
   "source": [
    "print('Observation: We can clealy observe there are only 2 countries that have the option of Online Delivery and Table Booking')"
   ]
  },
  {
   "cell_type": "code",
   "execution_count": 144,
   "id": "df42d3fd",
   "metadata": {},
   "outputs": [
    {
     "name": "stdout",
     "output_type": "stream",
     "text": [
      "Observation: In India 427 restaurants and In UAE 8 restaurants having the facility of Table booking and Online Delivery\n"
     ]
    }
   ],
   "source": [
    "print('Observation: In India 427 restaurants and In UAE 8 restaurants having the facility of Table booking and Online Delivery')"
   ]
  },
  {
   "cell_type": "code",
   "execution_count": 166,
   "id": "1fc9dcf2",
   "metadata": {},
   "outputs": [
    {
     "name": "stdout",
     "output_type": "stream",
     "text": [
      "Rounded Percentage: 5.0\n"
     ]
    }
   ],
   "source": [
    "rest_table_online=(both_table_online.value_counts().sum()/len(data))*100\n",
    "rounded_percentage = round(rest_table_online, 0)\n",
    "\n",
    "print(f\"Rounded Percentage: {rounded_percentage}\")"
   ]
  },
  {
   "cell_type": "code",
   "execution_count": 168,
   "id": "1beb7b04",
   "metadata": {},
   "outputs": [
    {
     "name": "stdout",
     "output_type": "stream",
     "text": [
      "Only, 5% of Overall restaurants take both the Online Order and Table Booking\n"
     ]
    }
   ],
   "source": [
    "print('Only, 5% of Overall restaurants take both the Online Order and Table Booking')"
   ]
  },
  {
   "cell_type": "code",
   "execution_count": 169,
   "id": "78d3a2c5",
   "metadata": {},
   "outputs": [],
   "source": [
    "#Compare the average ratings of restaurants with table booking and those without.\n"
   ]
  },
  {
   "cell_type": "code",
   "execution_count": 195,
   "id": "c96f3822",
   "metadata": {},
   "outputs": [],
   "source": [
    "table_booked=data[data['Has_Table_booking_Encoded']==1]"
   ]
  },
  {
   "cell_type": "markdown",
   "id": "a72e4f25",
   "metadata": {},
   "source": [
    "### We can clealy observe that those who booked the table gave the maximum 3.9 rating  out of 5"
   ]
  },
  {
   "cell_type": "code",
   "execution_count": 197,
   "id": "a38cf350",
   "metadata": {},
   "outputs": [
    {
     "data": {
      "image/png": "[encoded data removed]",
      "text/plain": [
       "<Figure size 720x576 with 1 Axes>"
      ]
     },
     "metadata": {
      "needs_background": "light"
     },
     "output_type": "display_data"
    }
   ],
   "source": [
    "plt.figure(figsize=(10,8))\n",
    "table_booked['Aggregate rating'].value_counts().plot(kind='bar', color=['Pink','Purple','Green','Yellow','Orange','Red','Brown'])\n",
    "plt.ylabel('Count')\n",
    "plt.xlabel('Average Rating')\n",
    "plt.title('Table Booked vs Average Rating')\n",
    "plt.xticks(rotation=90)\n",
    "plt.show()"
   ]
  },
  {
   "cell_type": "code",
   "execution_count": 201,
   "id": "b0908c0b",
   "metadata": {},
   "outputs": [],
   "source": [
    "table_not_booked=data[data['Has_Table_booking_Encoded']==0]"
   ]
  },
  {
   "cell_type": "markdown",
   "id": "a3b50dcd",
   "metadata": {},
   "source": [
    "### We can clealy observe that those who do not  booked the table gave the maximum 0 rating out of 5."
   ]
  },
  {
   "cell_type": "code",
   "execution_count": 200,
   "id": "9dde9e88",
   "metadata": {},
   "outputs": [
    {
     "data": {
      "image/png": "[encoded data removed]",
      "text/plain": [
       "<Figure size 720x576 with 1 Axes>"
      ]
     },
     "metadata": {
      "needs_background": "light"
     },
     "output_type": "display_data"
    }
   ],
   "source": [
    "plt.figure(figsize=(10,8))\n",
    "table_not_booked['Aggregate rating'].value_counts().plot(kind='bar', color=['Pink','Purple','Green','Yellow','Orange','Red','Brown'])\n",
    "plt.ylabel('Count')\n",
    "plt.xlabel('Average Rating')\n",
    "plt.title('Table Not Booked vs Average Rating')\n",
    "plt.xticks(rotation=90)\n",
    "plt.show()"
   ]
  },
  {
   "cell_type": "code",
   "execution_count": 217,
   "id": "89bc51ef",
   "metadata": {},
   "outputs": [],
   "source": [
    "#Analyze the availability of online delivery among restaurants with different price ranges."
   ]
  },
  {
   "cell_type": "markdown",
   "id": "2000cae0",
   "metadata": {},
   "source": [
    "### We know that in this dataset only 2 country that provide the facility of Online Delivery i.e. India and United Arab Emirates"
   ]
  },
  {
   "cell_type": "markdown",
   "id": "a1163c85",
   "metadata": {},
   "source": [
    "#### We will check the maximum price range of Indian Restaurants"
   ]
  },
  {
   "cell_type": "code",
   "execution_count": 210,
   "id": "3a2c7ea8",
   "metadata": {},
   "outputs": [],
   "source": [
    "online_delivery_India_rating=data[(data['Has_Online_delivery_Encoded']==1) & (data['Country_Code_Encoded']=='India')]"
   ]
  },
  {
   "cell_type": "code",
   "execution_count": 219,
   "id": "ce9b1286",
   "metadata": {},
   "outputs": [
    {
     "data": {
      "text/plain": [
       "2    1281\n",
       "1     701\n",
       "3     398\n",
       "4      43\n",
       "Name: Price range, dtype: int64"
      ]
     },
     "execution_count": 219,
     "metadata": {},
     "output_type": "execute_result"
    }
   ],
   "source": [
    "online_delivery_India_rating['Price range'].value_counts()"
   ]
  },
  {
   "cell_type": "code",
   "execution_count": 220,
   "id": "f34a9ab0",
   "metadata": {},
   "outputs": [
    {
     "name": "stdout",
     "output_type": "stream",
     "text": [
      "Observation: We can clearly observe that customers maximum order price lies in 2k\n"
     ]
    }
   ],
   "source": [
    "print('Observation: We can clearly observe that customers maximum order price lies in 2k')"
   ]
  },
  {
   "cell_type": "markdown",
   "id": "8ed0a084",
   "metadata": {},
   "source": [
    "#### We will check the maximum price range of  United Arab Emirates Restaurants"
   ]
  },
  {
   "cell_type": "code",
   "execution_count": 215,
   "id": "eb4989e9",
   "metadata": {},
   "outputs": [],
   "source": [
    "online_delivery_United_Arab_Emirates_rating=data[(data['Has_Online_delivery_Encoded']==1) & (data['Country_Code_Encoded']=='United Arab Emirates')]"
   ]
  },
  {
   "cell_type": "code",
   "execution_count": 221,
   "id": "a5a74b2a",
   "metadata": {},
   "outputs": [
    {
     "data": {
      "text/plain": [
       "3    13\n",
       "4    10\n",
       "2     5\n",
       "Name: Price range, dtype: int64"
      ]
     },
     "execution_count": 221,
     "metadata": {},
     "output_type": "execute_result"
    }
   ],
   "source": [
    "online_delivery_United_Arab_Emirates_rating['Price range'].value_counts()"
   ]
  },
  {
   "cell_type": "code",
   "execution_count": 223,
   "id": "d8a5300c",
   "metadata": {},
   "outputs": [
    {
     "name": "stdout",
     "output_type": "stream",
     "text": [
      "Observation: We can clearly observe that customers maximum order price range lies in 3k\n"
     ]
    }
   ],
   "source": [
    "print('Observation: We can clearly observe that customers maximum order price range lies in 3k')"
   ]
  },
  {
   "cell_type": "markdown",
   "id": "efc09806",
   "metadata": {},
   "source": [
    "# Things to Perform:\n",
    "### Price Range Analysis\n",
    "### Determine the most common price range among all the restaurants.\n",
    "### Calculate the average rating for each price range.\n",
    "### Identify the color that represents the highest average rating among different price ranges."
   ]
  },
  {
   "cell_type": "markdown",
   "id": "932fd5d2",
   "metadata": {},
   "source": [
    "#### The most common price range among all the restaurants are:"
   ]
  },
  {
   "cell_type": "code",
   "execution_count": 226,
   "id": "75f82b43",
   "metadata": {},
   "outputs": [
    {
     "data": {
      "text/plain": [
       "1    4444\n",
       "2    3113\n",
       "3    1408\n",
       "4     586\n",
       "Name: Price range, dtype: int64"
      ]
     },
     "execution_count": 226,
     "metadata": {},
     "output_type": "execute_result"
    }
   ],
   "source": [
    "data['Price range'].value_counts()"
   ]
  },
  {
   "cell_type": "code",
   "execution_count": 256,
   "id": "2ab842fa",
   "metadata": {},
   "outputs": [
    {
     "name": "stdout",
     "output_type": "stream",
     "text": [
      "Observation: The most common price range is 1\n"
     ]
    }
   ],
   "source": [
    "print('Observation: The most common price range is 1')"
   ]
  },
  {
   "cell_type": "markdown",
   "id": "4fefbb82",
   "metadata": {},
   "source": [
    "#### Calculate the average rating for each price range."
   ]
  },
  {
   "cell_type": "code",
   "execution_count": 238,
   "id": "f08587a4",
   "metadata": {},
   "outputs": [],
   "source": [
    "gf=data.groupby('Price range')"
   ]
  },
  {
   "cell_type": "code",
   "execution_count": 258,
   "id": "0f8651f4",
   "metadata": {},
   "outputs": [
    {
     "data": {
      "text/html": [
       "<div>\n",
       "<style scoped>\n",
       "    .dataframe tbody tr th:only-of-type {\n",
       "        vertical-align: middle;\n",
       "    }\n",
       "\n",
       "    .dataframe tbody tr th {\n",
       "        vertical-align: top;\n",
       "    }\n",
       "\n",
       "    .dataframe thead th {\n",
       "        text-align: right;\n",
       "    }\n",
       "</style>\n",
       "<table border=\"1\" class=\"dataframe\">\n",
       "  <thead>\n",
       "    <tr style=\"text-align: right;\">\n",
       "      <th></th>\n",
       "      <th>Restaurant ID</th>\n",
       "      <th>Restaurant Name</th>\n",
       "      <th>Country Code</th>\n",
       "      <th>City</th>\n",
       "      <th>Address</th>\n",
       "      <th>Locality</th>\n",
       "      <th>Locality Verbose</th>\n",
       "      <th>Longitude</th>\n",
       "      <th>Latitude</th>\n",
       "      <th>Cuisines</th>\n",
       "      <th>...</th>\n",
       "      <th>Switch to order menu</th>\n",
       "      <th>Aggregate rating</th>\n",
       "      <th>Rating color</th>\n",
       "      <th>Rating text</th>\n",
       "      <th>Votes</th>\n",
       "      <th>Has_Table_booking_Encoded</th>\n",
       "      <th>Has_Online_delivery_Encoded</th>\n",
       "      <th>Is_delivering_now_Encoded</th>\n",
       "      <th>Switch_to_order_menu_Encoded</th>\n",
       "      <th>Country_Code_Encoded</th>\n",
       "    </tr>\n",
       "    <tr>\n",
       "      <th>Price range</th>\n",
       "      <th></th>\n",
       "      <th></th>\n",
       "      <th></th>\n",
       "      <th></th>\n",
       "      <th></th>\n",
       "      <th></th>\n",
       "      <th></th>\n",
       "      <th></th>\n",
       "      <th></th>\n",
       "      <th></th>\n",
       "      <th></th>\n",
       "      <th></th>\n",
       "      <th></th>\n",
       "      <th></th>\n",
       "      <th></th>\n",
       "      <th></th>\n",
       "      <th></th>\n",
       "      <th></th>\n",
       "      <th></th>\n",
       "      <th></th>\n",
       "      <th></th>\n",
       "    </tr>\n",
       "  </thead>\n",
       "  <tbody>\n",
       "    <tr>\n",
       "      <th>1</th>\n",
       "      <td>6601005</td>\n",
       "      <td>Caf�� Daniel Briand</td>\n",
       "      <td>30</td>\n",
       "      <td>Bras�_lia</td>\n",
       "      <td>SCLN 104, Bloco A, Loja 26, Asa Norte, Bras�_lia</td>\n",
       "      <td>Asa Norte</td>\n",
       "      <td>Asa Norte, Bras�_lia</td>\n",
       "      <td>-47.882667</td>\n",
       "      <td>-15.777500</td>\n",
       "      <td>Cafe</td>\n",
       "      <td>...</td>\n",
       "      <td>No</td>\n",
       "      <td>3.8</td>\n",
       "      <td>Yellow</td>\n",
       "      <td>Good</td>\n",
       "      <td>9</td>\n",
       "      <td>0</td>\n",
       "      <td>0</td>\n",
       "      <td>0</td>\n",
       "      <td>0</td>\n",
       "      <td>Brazil</td>\n",
       "    </tr>\n",
       "    <tr>\n",
       "      <th>2</th>\n",
       "      <td>18255654</td>\n",
       "      <td>Hobing Korean Dessert Cafe</td>\n",
       "      <td>162</td>\n",
       "      <td>Taguig City</td>\n",
       "      <td>Third Floor, BGC Stopover Pavillion, Rizal Dri...</td>\n",
       "      <td>BGC Stopover Pavillion, Bonifacio Global City</td>\n",
       "      <td>BGC Stopover Pavillion, Bonifacio Global City,...</td>\n",
       "      <td>121.045878</td>\n",
       "      <td>14.554360</td>\n",
       "      <td>Cafe, Korean, Desserts</td>\n",
       "      <td>...</td>\n",
       "      <td>No</td>\n",
       "      <td>4.5</td>\n",
       "      <td>Dark Green</td>\n",
       "      <td>Excellent</td>\n",
       "      <td>118</td>\n",
       "      <td>0</td>\n",
       "      <td>0</td>\n",
       "      <td>0</td>\n",
       "      <td>0</td>\n",
       "      <td>Philippines</td>\n",
       "    </tr>\n",
       "    <tr>\n",
       "      <th>3</th>\n",
       "      <td>6317637</td>\n",
       "      <td>Le Petit Souffle</td>\n",
       "      <td>162</td>\n",
       "      <td>Makati City</td>\n",
       "      <td>Third Floor, Century City Mall, Kalayaan Avenu...</td>\n",
       "      <td>Century City Mall, Poblacion, Makati City</td>\n",
       "      <td>Century City Mall, Poblacion, Makati City, Mak...</td>\n",
       "      <td>121.027535</td>\n",
       "      <td>14.565443</td>\n",
       "      <td>French, Japanese, Desserts</td>\n",
       "      <td>...</td>\n",
       "      <td>No</td>\n",
       "      <td>4.8</td>\n",
       "      <td>Dark Green</td>\n",
       "      <td>Excellent</td>\n",
       "      <td>314</td>\n",
       "      <td>1</td>\n",
       "      <td>0</td>\n",
       "      <td>0</td>\n",
       "      <td>0</td>\n",
       "      <td>Philippines</td>\n",
       "    </tr>\n",
       "    <tr>\n",
       "      <th>4</th>\n",
       "      <td>6300002</td>\n",
       "      <td>Heat - Edsa Shangri-La</td>\n",
       "      <td>162</td>\n",
       "      <td>Mandaluyong City</td>\n",
       "      <td>Edsa Shangri-La, 1 Garden Way, Ortigas, Mandal...</td>\n",
       "      <td>Edsa Shangri-La, Ortigas, Mandaluyong City</td>\n",
       "      <td>Edsa Shangri-La, Ortigas, Mandaluyong City, Ma...</td>\n",
       "      <td>121.056831</td>\n",
       "      <td>14.581404</td>\n",
       "      <td>Seafood, Asian, Filipino, Indian</td>\n",
       "      <td>...</td>\n",
       "      <td>No</td>\n",
       "      <td>4.4</td>\n",
       "      <td>Green</td>\n",
       "      <td>Very Good</td>\n",
       "      <td>270</td>\n",
       "      <td>1</td>\n",
       "      <td>0</td>\n",
       "      <td>0</td>\n",
       "      <td>0</td>\n",
       "      <td>Philippines</td>\n",
       "    </tr>\n",
       "  </tbody>\n",
       "</table>\n",
       "<p>4 rows × 25 columns</p>\n",
       "</div>"
      ],
      "text/plain": [
       "             Restaurant ID             Restaurant Name  Country Code  \\\n",
       "Price range                                                            \n",
       "1                  6601005         Caf�� Daniel Briand            30   \n",
       "2                 18255654  Hobing Korean Dessert Cafe           162   \n",
       "3                  6317637            Le Petit Souffle           162   \n",
       "4                  6300002      Heat - Edsa Shangri-La           162   \n",
       "\n",
       "                         City  \\\n",
       "Price range                     \n",
       "1                   Bras�_lia   \n",
       "2                 Taguig City   \n",
       "3                 Makati City   \n",
       "4            Mandaluyong City   \n",
       "\n",
       "                                                       Address  \\\n",
       "Price range                                                      \n",
       "1             SCLN 104, Bloco A, Loja 26, Asa Norte, Bras�_lia   \n",
       "2            Third Floor, BGC Stopover Pavillion, Rizal Dri...   \n",
       "3            Third Floor, Century City Mall, Kalayaan Avenu...   \n",
       "4            Edsa Shangri-La, 1 Garden Way, Ortigas, Mandal...   \n",
       "\n",
       "                                                  Locality  \\\n",
       "Price range                                                  \n",
       "1                                                Asa Norte   \n",
       "2            BGC Stopover Pavillion, Bonifacio Global City   \n",
       "3                Century City Mall, Poblacion, Makati City   \n",
       "4               Edsa Shangri-La, Ortigas, Mandaluyong City   \n",
       "\n",
       "                                              Locality Verbose   Longitude  \\\n",
       "Price range                                                                  \n",
       "1                                         Asa Norte, Bras�_lia  -47.882667   \n",
       "2            BGC Stopover Pavillion, Bonifacio Global City,...  121.045878   \n",
       "3            Century City Mall, Poblacion, Makati City, Mak...  121.027535   \n",
       "4            Edsa Shangri-La, Ortigas, Mandaluyong City, Ma...  121.056831   \n",
       "\n",
       "              Latitude                          Cuisines  ...  \\\n",
       "Price range                                               ...   \n",
       "1           -15.777500                              Cafe  ...   \n",
       "2            14.554360            Cafe, Korean, Desserts  ...   \n",
       "3            14.565443        French, Japanese, Desserts  ...   \n",
       "4            14.581404  Seafood, Asian, Filipino, Indian  ...   \n",
       "\n",
       "             Switch to order menu Aggregate rating Rating color Rating text  \\\n",
       "Price range                                                                   \n",
       "1                              No              3.8       Yellow        Good   \n",
       "2                              No              4.5   Dark Green   Excellent   \n",
       "3                              No              4.8   Dark Green   Excellent   \n",
       "4                              No              4.4        Green   Very Good   \n",
       "\n",
       "            Votes Has_Table_booking_Encoded  Has_Online_delivery_Encoded  \\\n",
       "Price range                                                                \n",
       "1               9                         0                            0   \n",
       "2             118                         0                            0   \n",
       "3             314                         1                            0   \n",
       "4             270                         1                            0   \n",
       "\n",
       "            Is_delivering_now_Encoded Switch_to_order_menu_Encoded  \\\n",
       "Price range                                                          \n",
       "1                                   0                            0   \n",
       "2                                   0                            0   \n",
       "3                                   0                            0   \n",
       "4                                   0                            0   \n",
       "\n",
       "             Country_Code_Encoded  \n",
       "Price range                        \n",
       "1                          Brazil  \n",
       "2                     Philippines  \n",
       "3                     Philippines  \n",
       "4                     Philippines  \n",
       "\n",
       "[4 rows x 25 columns]"
      ]
     },
     "execution_count": 258,
     "metadata": {},
     "output_type": "execute_result"
    }
   ],
   "source": [
    "gf.first()"
   ]
  },
  {
   "cell_type": "code",
   "execution_count": 255,
   "id": "64e6171a",
   "metadata": {},
   "outputs": [
    {
     "name": "stdout",
     "output_type": "stream",
     "text": [
      "Average Rating of each price range are: \n",
      " Price range\n",
      "1    1.999887\n",
      "2    2.941054\n",
      "3    3.683381\n",
      "4    3.817918\n",
      "Name: Aggregate rating, dtype: float64\n"
     ]
    }
   ],
   "source": [
    "average_rating=gf['Aggregate rating'].mean()\n",
    "print('Average Rating of each price range are: \\n',average_rating)"
   ]
  },
  {
   "cell_type": "markdown",
   "id": "1d32bd99",
   "metadata": {},
   "source": [
    "#### Identify the color that represents the highest average rating among different price ranges."
   ]
  },
  {
   "cell_type": "code",
   "execution_count": 294,
   "id": "d0892cf8",
   "metadata": {},
   "outputs": [],
   "source": [
    "rating_col=data.groupby('Price range')['Aggregate rating'].mean().reset_index()"
   ]
  },
  {
   "cell_type": "code",
   "execution_count": 295,
   "id": "8756f264",
   "metadata": {},
   "outputs": [],
   "source": [
    "merged_data=pd.merge(data,rating_col,on='Price range', suffixes=('','avg'))"
   ]
  },
  {
   "cell_type": "code",
   "execution_count": 296,
   "id": "09b5c96b",
   "metadata": {},
   "outputs": [],
   "source": [
    "rating_col_max_avg = merged_data.groupby('Rating color')['Aggregate rating'].max()"
   ]
  },
  {
   "cell_type": "code",
   "execution_count": 297,
   "id": "9bb0aae4",
   "metadata": {},
   "outputs": [
    {
     "data": {
      "text/plain": [
       "Rating color\n",
       "Dark Green    4.9\n",
       "Green         4.4\n",
       "Orange        3.4\n",
       "Red           2.4\n",
       "White         0.0\n",
       "Yellow        3.9\n",
       "Name: Aggregate rating, dtype: float64"
      ]
     },
     "execution_count": 297,
     "metadata": {},
     "output_type": "execute_result"
    }
   ],
   "source": [
    "rating_col_max_avg"
   ]
  },
  {
   "cell_type": "code",
   "execution_count": 304,
   "id": "46fd90e1",
   "metadata": {},
   "outputs": [],
   "source": [
    "#Another Approach- It will provide you the same result"
   ]
  },
  {
   "cell_type": "code",
   "execution_count": 298,
   "id": "e3e4b56c",
   "metadata": {},
   "outputs": [],
   "source": [
    "rating_col=data.groupby('Rating color')"
   ]
  },
  {
   "cell_type": "code",
   "execution_count": 303,
   "id": "378b464a",
   "metadata": {},
   "outputs": [
    {
     "data": {
      "text/html": [
       "<div>\n",
       "<style scoped>\n",
       "    .dataframe tbody tr th:only-of-type {\n",
       "        vertical-align: middle;\n",
       "    }\n",
       "\n",
       "    .dataframe tbody tr th {\n",
       "        vertical-align: top;\n",
       "    }\n",
       "\n",
       "    .dataframe thead th {\n",
       "        text-align: right;\n",
       "    }\n",
       "</style>\n",
       "<table border=\"1\" class=\"dataframe\">\n",
       "  <thead>\n",
       "    <tr style=\"text-align: right;\">\n",
       "      <th></th>\n",
       "      <th>Aggregate rating</th>\n",
       "      <th>Price range</th>\n",
       "    </tr>\n",
       "    <tr>\n",
       "      <th>Rating color</th>\n",
       "      <th></th>\n",
       "      <th></th>\n",
       "    </tr>\n",
       "  </thead>\n",
       "  <tbody>\n",
       "    <tr>\n",
       "      <th>Dark Green</th>\n",
       "      <td>4.9</td>\n",
       "      <td>4</td>\n",
       "    </tr>\n",
       "    <tr>\n",
       "      <th>Green</th>\n",
       "      <td>4.4</td>\n",
       "      <td>4</td>\n",
       "    </tr>\n",
       "    <tr>\n",
       "      <th>Orange</th>\n",
       "      <td>3.4</td>\n",
       "      <td>4</td>\n",
       "    </tr>\n",
       "    <tr>\n",
       "      <th>Red</th>\n",
       "      <td>2.4</td>\n",
       "      <td>4</td>\n",
       "    </tr>\n",
       "    <tr>\n",
       "      <th>White</th>\n",
       "      <td>0.0</td>\n",
       "      <td>4</td>\n",
       "    </tr>\n",
       "    <tr>\n",
       "      <th>Yellow</th>\n",
       "      <td>3.9</td>\n",
       "      <td>4</td>\n",
       "    </tr>\n",
       "  </tbody>\n",
       "</table>\n",
       "</div>"
      ],
      "text/plain": [
       "              Aggregate rating  Price range\n",
       "Rating color                               \n",
       "Dark Green                 4.9            4\n",
       "Green                      4.4            4\n",
       "Orange                     3.4            4\n",
       "Red                        2.4            4\n",
       "White                      0.0            4\n",
       "Yellow                     3.9            4"
      ]
     },
     "execution_count": 303,
     "metadata": {},
     "output_type": "execute_result"
    }
   ],
   "source": [
    "rating_col[['Aggregate rating','Price range']].max()"
   ]
  },
  {
   "cell_type": "markdown",
   "id": "e0ff7219",
   "metadata": {},
   "source": [
    "# Things to Perform:\n",
    "###  Feature Engineering\n",
    "### Extract additional features from the existing columns, such as the length of the restaurant name or address.\n",
    "### Create new features like \"Has Table Booking\" or \"Has Online Delivery\" by encoding categorical variables"
   ]
  },
  {
   "cell_type": "markdown",
   "id": "c665b0c4",
   "metadata": {},
   "source": [
    "## We have already encoded the columns in above section of this file"
   ]
  },
  {
   "cell_type": "markdown",
   "id": "086521e9",
   "metadata": {},
   "source": [
    "### Finding length of the restaurant name"
   ]
  },
  {
   "cell_type": "code",
   "execution_count": 339,
   "id": "d0802fd3",
   "metadata": {},
   "outputs": [
    {
     "data": {
      "text/plain": [
       "Cafe Coffee Day             83\n",
       "Domino's Pizza              79\n",
       "Subway                      63\n",
       "Green Chick Chop            51\n",
       "McDonald's                  48\n",
       "                            ..\n",
       "Odeon Social                 1\n",
       "Johnny Rockets               1\n",
       "House of Commons             1\n",
       "HotMess                      1\n",
       "Walter's Coffee Roastery     1\n",
       "Name: Restaurant Name, Length: 7446, dtype: int64"
      ]
     },
     "execution_count": 339,
     "metadata": {},
     "output_type": "execute_result"
    }
   ],
   "source": [
    "(data['Restaurant Name']).value_counts()"
   ]
  },
  {
   "cell_type": "code",
   "execution_count": 340,
   "id": "2e4e0543",
   "metadata": {},
   "outputs": [],
   "source": [
    "data['Restaurant_Name_Lenght']=data['Restaurant Name'].apply(lambda x:len(x))"
   ]
  },
  {
   "cell_type": "code",
   "execution_count": 343,
   "id": "a4b5f26f",
   "metadata": {},
   "outputs": [
    {
     "data": {
      "text/html": [
       "<div>\n",
       "<style scoped>\n",
       "    .dataframe tbody tr th:only-of-type {\n",
       "        vertical-align: middle;\n",
       "    }\n",
       "\n",
       "    .dataframe tbody tr th {\n",
       "        vertical-align: top;\n",
       "    }\n",
       "\n",
       "    .dataframe thead th {\n",
       "        text-align: right;\n",
       "    }\n",
       "</style>\n",
       "<table border=\"1\" class=\"dataframe\">\n",
       "  <thead>\n",
       "    <tr style=\"text-align: right;\">\n",
       "      <th></th>\n",
       "      <th>Restaurant Name</th>\n",
       "      <th>Restaurant_Name_Lenght</th>\n",
       "    </tr>\n",
       "  </thead>\n",
       "  <tbody>\n",
       "    <tr>\n",
       "      <th>0</th>\n",
       "      <td>Le Petit Souffle</td>\n",
       "      <td>16</td>\n",
       "    </tr>\n",
       "    <tr>\n",
       "      <th>1</th>\n",
       "      <td>Izakaya Kikufuji</td>\n",
       "      <td>16</td>\n",
       "    </tr>\n",
       "    <tr>\n",
       "      <th>2</th>\n",
       "      <td>Heat - Edsa Shangri-La</td>\n",
       "      <td>22</td>\n",
       "    </tr>\n",
       "    <tr>\n",
       "      <th>3</th>\n",
       "      <td>Ooma</td>\n",
       "      <td>4</td>\n",
       "    </tr>\n",
       "    <tr>\n",
       "      <th>4</th>\n",
       "      <td>Sambo Kojin</td>\n",
       "      <td>11</td>\n",
       "    </tr>\n",
       "    <tr>\n",
       "      <th>...</th>\n",
       "      <td>...</td>\n",
       "      <td>...</td>\n",
       "    </tr>\n",
       "    <tr>\n",
       "      <th>9546</th>\n",
       "      <td>Naml۱ Gurme</td>\n",
       "      <td>11</td>\n",
       "    </tr>\n",
       "    <tr>\n",
       "      <th>9547</th>\n",
       "      <td>Ceviz A��ac۱</td>\n",
       "      <td>12</td>\n",
       "    </tr>\n",
       "    <tr>\n",
       "      <th>9548</th>\n",
       "      <td>Huqqa</td>\n",
       "      <td>5</td>\n",
       "    </tr>\n",
       "    <tr>\n",
       "      <th>9549</th>\n",
       "      <td>A���k Kahve</td>\n",
       "      <td>11</td>\n",
       "    </tr>\n",
       "    <tr>\n",
       "      <th>9550</th>\n",
       "      <td>Walter's Coffee Roastery</td>\n",
       "      <td>24</td>\n",
       "    </tr>\n",
       "  </tbody>\n",
       "</table>\n",
       "<p>9551 rows × 2 columns</p>\n",
       "</div>"
      ],
      "text/plain": [
       "               Restaurant Name  Restaurant_Name_Lenght\n",
       "0             Le Petit Souffle                      16\n",
       "1             Izakaya Kikufuji                      16\n",
       "2       Heat - Edsa Shangri-La                      22\n",
       "3                         Ooma                       4\n",
       "4                  Sambo Kojin                      11\n",
       "...                        ...                     ...\n",
       "9546               Naml۱ Gurme                      11\n",
       "9547              Ceviz A��ac۱                      12\n",
       "9548                     Huqqa                       5\n",
       "9549               A���k Kahve                      11\n",
       "9550  Walter's Coffee Roastery                      24\n",
       "\n",
       "[9551 rows x 2 columns]"
      ]
     },
     "execution_count": 343,
     "metadata": {},
     "output_type": "execute_result"
    }
   ],
   "source": [
    "data[['Restaurant Name','Restaurant_Name_Lenght']]"
   ]
  },
  {
   "cell_type": "markdown",
   "id": "ae2a9bd7",
   "metadata": {},
   "source": [
    "Level-3:\n",
    "\n",
    "Task-1: Predictive Modeling\n",
    "Build a regression model to predict the aggregate rating of a restaurant based on available features.\n",
    "Split the dataset into training and testing sets and evaluate the model's performance using appropriate metrics.\n",
    "Experiment with different algorithms (e.g., linear regression, decision trees, random forest) and compare their performance.\n",
    "\n",
    "Task-2: Customer Preference Analysis\n",
    "Analyze the relationship between the type of cuisine and the restaurant's rating.\n",
    "Identify the most popular cuisines among customers based on the number of votes.\n",
    "Determine if there are any specific cuisines that tend to receive higher ratings.\n",
    "\n",
    "Task-3: Data Visualization\n",
    "Create visualizations to represent the distribution of ratings using different charts (histogram, bar plot, etc.).\n",
    "Compare the average ratings of different cuisines or cities using appropriate visualizations.\n",
    "Visualize the relationship between various features and the target variable to gain insights.\n"
   ]
  },
  {
   "cell_type": "markdown",
   "id": "73d03f24",
   "metadata": {},
   "source": [
    "# Things to Perform:\n",
    "### Predictive Modeling\n",
    "### Build a regression model to predict the aggregate rating of a restaurant based on available features.\n",
    "### Split the dataset into training and testing sets and evaluate the model's performance using appropriate metrics.\n",
    "### Experiment with different algorithms (e.g., linear regression, decision trees, random forest) and compare their performance.\n"
   ]
  },
  {
   "cell_type": "code",
   "execution_count": 391,
   "id": "28d7dd2b",
   "metadata": {},
   "outputs": [],
   "source": [
    "from sklearn.preprocessing import StandardScaler\n",
    "from sklearn.model_selection import train_test_split\n",
    "from sklearn.linear_model import LinearRegression\n",
    "import statsmodels.api as sm\n",
    "from sklearn.linear_model import Lasso, Ridge"
   ]
  },
  {
   "cell_type": "code",
   "execution_count": 350,
   "id": "31be64ac",
   "metadata": {},
   "outputs": [],
   "source": [
    "# Seprating the Independent and Dependent variables"
   ]
  },
  {
   "cell_type": "code",
   "execution_count": 352,
   "id": "a0a8d59d",
   "metadata": {},
   "outputs": [
    {
     "data": {
      "text/plain": [
       "Index(['Restaurant ID', 'Country Code', 'Longitude', 'Latitude',\n",
       "       'Average Cost for two', 'Price range', 'Aggregate rating', 'Votes',\n",
       "       'Has_Table_booking_Encoded', 'Has_Online_delivery_Encoded',\n",
       "       'Is_delivering_now_Encoded', 'Switch_to_order_menu_Encoded'],\n",
       "      dtype='object')"
      ]
     },
     "execution_count": 352,
     "metadata": {},
     "output_type": "execute_result"
    }
   ],
   "source": [
    "num_cols.columns"
   ]
  },
  {
   "cell_type": "code",
   "execution_count": 368,
   "id": "95b4de40",
   "metadata": {},
   "outputs": [],
   "source": [
    "x=num_cols.drop(columns=['Aggregate rating'])\n",
    "y=num_cols['Aggregate rating']"
   ]
  },
  {
   "cell_type": "markdown",
   "id": "9456410f",
   "metadata": {},
   "source": [
    "# Spliiting the Data into training and testing set"
   ]
  },
  {
   "cell_type": "code",
   "execution_count": 369,
   "id": "9fc79f19",
   "metadata": {},
   "outputs": [],
   "source": [
    "xtrain,xtest,ytrain,ytest=train_test_split(x,y, test_size=0.25, random_state=42)"
   ]
  },
  {
   "cell_type": "code",
   "execution_count": 382,
   "id": "3e362524",
   "metadata": {},
   "outputs": [
    {
     "name": "stdout",
     "output_type": "stream",
     "text": [
      "                            OLS Regression Results                            \n",
      "==============================================================================\n",
      "Dep. Variable:       Aggregate rating   R-squared:                       0.391\n",
      "Model:                            OLS   Adj. R-squared:                  0.390\n",
      "Method:                 Least Squares   F-statistic:                     458.2\n",
      "Date:                Thu, 06 Jun 2024   Prob (F-statistic):               0.00\n",
      "Time:                        01:16:09   Log-Likelihood:                -11393.\n",
      "No. Observations:                7163   AIC:                         2.281e+04\n",
      "Df Residuals:                    7152   BIC:                         2.288e+04\n",
      "Df Model:                          10                                         \n",
      "Covariance Type:            nonrobust                                         \n",
      "================================================================================================\n",
      "                                   coef    std err          t      P>|t|      [0.025      0.975]\n",
      "------------------------------------------------------------------------------------------------\n",
      "const                            1.8112      0.065     27.681      0.000       1.683       1.939\n",
      "Restaurant ID                -5.225e-08   1.68e-09    -31.046      0.000   -5.55e-08   -4.89e-08\n",
      "Country Code                     0.0074      0.000     19.837      0.000       0.007       0.008\n",
      "Longitude                        0.0002      0.000      0.467      0.641      -0.001       0.001\n",
      "Latitude                         0.0021      0.001      1.522      0.128      -0.001       0.005\n",
      "Average Cost for two          1.531e-06   9.24e-07      1.658      0.097   -2.79e-07    3.34e-06\n",
      "Price range                      0.4760      0.020     23.300      0.000       0.436       0.516\n",
      "Votes                            0.0005    3.6e-05     12.908      0.000       0.000       0.001\n",
      "Has_Table_booking_Encoded       -0.0554      0.052     -1.071      0.284      -0.157       0.046\n",
      "Has_Online_delivery_Encoded      0.7384      0.033     22.074      0.000       0.673       0.804\n",
      "Is_delivering_now_Encoded        0.1899      0.231      0.824      0.410      -0.262       0.642\n",
      "Switch_to_order_menu_Encoded          0          0        nan        nan           0           0\n",
      "==============================================================================\n",
      "Omnibus:                      514.778   Durbin-Watson:                   2.026\n",
      "Prob(Omnibus):                  0.000   Jarque-Bera (JB):              275.495\n",
      "Skew:                          -0.323   Prob(JB):                     1.50e-60\n",
      "Kurtosis:                       2.290   Cond. No.                          inf\n",
      "==============================================================================\n",
      "\n",
      "Notes:\n",
      "[1] Standard Errors assume that the covariance matrix of the errors is correctly specified.\n",
      "[2] The smallest eigenvalue is      0. This might indicate that there are\n",
      "strong multicollinearity problems or that the design matrix is singular.\n",
      "Mean Squared Error: 1.4653230655673333\n",
      "Mean Absolute Error: 1.0151045022591298\n",
      "R-squared: 0.3510819505085253\n"
     ]
    }
   ],
   "source": [
    "\n",
    "xtrain = sm.add_constant(xtrain)\n",
    "xtest = sm.add_constant(xtest)\n",
    "\n",
    "# Fit the model\n",
    "model1 = sm.OLS(ytrain, xtrain).fit()\n",
    "\n",
    "# Print summary\n",
    "print(model1.summary())\n",
    "\n",
    "# Make predictions\n",
    "ypred = model1.predict(xtest)\n",
    "\n",
    "# Calculate metrics\n",
    "mse = mean_squared_error(ytest, ypred)\n",
    "mae = mean_absolute_error(ytest, ypred)\n",
    "r2 = r2_score(ytest, ypred)\n",
    "\n",
    "print('Mean Squared Error:', mse)\n",
    "print('Mean Absolute Error:', mae)\n",
    "print('R-squared:', r2)\n"
   ]
  },
  {
   "cell_type": "markdown",
   "id": "a98ad48e",
   "metadata": {},
   "source": [
    "# Decision Tree Regressor Model-2"
   ]
  },
  {
   "cell_type": "code",
   "execution_count": 381,
   "id": "e41a8ceb",
   "metadata": {},
   "outputs": [
    {
     "name": "stdout",
     "output_type": "stream",
     "text": [
      "Mean Squared Error: 0.14697654941373536\n",
      "Mean Absolute Error: 0.2488274706867672\n",
      "R-squared: 0.9349114621835141\n"
     ]
    }
   ],
   "source": [
    "from sklearn.tree import DecisionTreeRegressor\n",
    "from sklearn.metrics import mean_squared_error, r2_score, mean_absolute_error\n",
    "\n",
    "# Training the model\n",
    "model2 = DecisionTreeRegressor(random_state=42)\n",
    "model2.fit(xtrain, ytrain)\n",
    "\n",
    "# Making predictions\n",
    "ypred = model2.predict(xtest)\n",
    "\n",
    "# Calculate Mean Squared Error\n",
    "mse = mean_squared_error(ytest, ypred)\n",
    "print('Mean Squared Error:', mse)\n",
    "\n",
    "# Calculate Mean Absolute Error\n",
    "mae = mean_absolute_error(ytest, ypred)\n",
    "print('Mean Absolute Error:', mae)\n",
    "\n",
    "# Calculate R-squared\n",
    "r2 = r2_score(ytest, ypred)\n",
    "print('R-squared:', r2)\n",
    "\n"
   ]
  },
  {
   "cell_type": "markdown",
   "id": "646b8024",
   "metadata": {},
   "source": [
    "# Linear Regression Model-3"
   ]
  },
  {
   "cell_type": "code",
   "execution_count": 383,
   "id": "d7c0ce12",
   "metadata": {},
   "outputs": [
    {
     "name": "stdout",
     "output_type": "stream",
     "text": [
      "Mean Squared Error: 1.4653230655673368\n",
      "Mean Absolute Error: 1.0151045022591265\n",
      "R-squared: 0.35108195050852387\n"
     ]
    }
   ],
   "source": [
    "model3=LinearRegression()\n",
    "\n",
    "model3.fit(xtrain,ytrain)\n",
    "\n",
    "ypred=model3.predict(xtest)\n",
    "\n",
    "# Calculate and print regression metrics\n",
    "mse = mean_squared_error(ytest, ypred)\n",
    "mae = mean_absolute_error(ytest, ypred)\n",
    "r2 = r2_score(ytest, ypred)\n",
    "\n",
    "print('Mean Squared Error:', mse)\n",
    "print('Mean Absolute Error:', mae)\n",
    "print('R-squared:', r2)"
   ]
  },
  {
   "cell_type": "markdown",
   "id": "8fa20bd1",
   "metadata": {},
   "source": [
    "# Random Forest Model-4"
   ]
  },
  {
   "cell_type": "code",
   "execution_count": 385,
   "id": "293458c3",
   "metadata": {},
   "outputs": [],
   "source": [
    "from sklearn.ensemble import RandomForestRegressor"
   ]
  },
  {
   "cell_type": "code",
   "execution_count": 386,
   "id": "de7d02e3",
   "metadata": {},
   "outputs": [],
   "source": [
    "model4=RandomForestRegressor()"
   ]
  },
  {
   "cell_type": "code",
   "execution_count": 389,
   "id": "3020ddb2",
   "metadata": {},
   "outputs": [
    {
     "name": "stdout",
     "output_type": "stream",
     "text": [
      "Mean Squared Error: 0.07691041876046904\n",
      "Mean Absolute Error: 0.18235929648241211\n",
      "R-squared: 0.9659402352284049\n"
     ]
    }
   ],
   "source": [
    "model4.fit(xtrain,ytrain)\n",
    "\n",
    "ypred=model4.predict(xtest)\n",
    "\n",
    "# Calculate and print regression metrics\n",
    "mse = mean_squared_error(ytest, ypred)\n",
    "mae = mean_absolute_error(ytest, ypred)\n",
    "r2 = r2_score(ytest, ypred)\n",
    "\n",
    "print('Mean Squared Error:', mse)\n",
    "print('Mean Absolute Error:', mae)\n",
    "print('R-squared:', r2)"
   ]
  },
  {
   "cell_type": "markdown",
   "id": "d8316628",
   "metadata": {},
   "source": [
    "# Lasso"
   ]
  },
  {
   "cell_type": "code",
   "execution_count": 394,
   "id": "cbbfe7ed",
   "metadata": {},
   "outputs": [
    {
     "name": "stdout",
     "output_type": "stream",
     "text": [
      "Mean Squared Error: 1.5217815074581909\n",
      "R-squared: 0.3260793399238361\n"
     ]
    }
   ],
   "source": [
    "lasso = Lasso(alpha=0.1)\n",
    "lasso.fit(xtrain, ytrain)\n",
    "ypred = lasso.predict(xtest)\n",
    "mse = mean_squared_error(ytest, ypred)\n",
    "r2 = r2_score(ytest, ypred)\n",
    "print('Mean Squared Error:', mse)\n",
    "print('R-squared:', r2)"
   ]
  },
  {
   "cell_type": "markdown",
   "id": "300ce7c8",
   "metadata": {},
   "source": [
    "# Ridge"
   ]
  },
  {
   "cell_type": "code",
   "execution_count": 395,
   "id": "8763b65a",
   "metadata": {},
   "outputs": [
    {
     "name": "stdout",
     "output_type": "stream",
     "text": [
      "Mean Squared Error: 1.4653201705635799\n",
      "R-squared: 0.35108323256040397\n"
     ]
    }
   ],
   "source": [
    "ridge = Ridge(alpha=0.1)\n",
    "ridge.fit(xtrain, ytrain)\n",
    "ypred = ridge.predict(xtest)\n",
    "mse = mean_squared_error(ytest, ypred)\n",
    "r2 = r2_score(ytest, ypred)\n",
    "print('Mean Squared Error:', mse)\n",
    "print('R-squared:', r2)"
   ]
  },
  {
   "cell_type": "raw",
   "id": "6fe20a7c",
   "metadata": {},
   "source": [
    "Linear Regression R-square: 0.35\n",
    "Decision Tree Regression: R-squared: 0.93\n",
    "Ols Model: R-squared:0.391\n",
    "Random Forest Regressor: R-squared: 0.96\n",
    "Lasso:R-squared: 0.32\n",
    "Ridge:R-square:0.35"
   ]
  },
  {
   "cell_type": "code",
   "execution_count": 397,
   "id": "c6353e75",
   "metadata": {},
   "outputs": [
    {
     "name": "stdout",
     "output_type": "stream",
     "text": [
      "The best model that fits to our dataset is Decison Tree Regression which has a highest accuracy/R-square value i.e. 93% \n"
     ]
    }
   ],
   "source": [
    "print('The best model that fits to our dataset is Decison Tree Regression which has a highest accuracy/R-square value i.e. 93% ')"
   ]
  },
  {
   "cell_type": "raw",
   "id": "3967b5a9",
   "metadata": {},
   "source": [
    "By Himanshu Kapoor"
   ]
  }
 ],
 "metadata": {
  "kernelspec": {
   "display_name": "Python 3 (ipykernel)",
   "language": "python",
   "name": "python3"
  },
  "language_info": {
   "codemirror_mode": {
    "name": "ipython",
    "version": 3
   },
   "file_extension": ".py",
   "mimetype": "text/x-python",
   "name": "python",
   "nbconvert_exporter": "python",
   "pygments_lexer": "ipython3",
   "version": "3.9.7"
  }
 },
 "nbformat": 4,
 "nbformat_minor": 5
}
